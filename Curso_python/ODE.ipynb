{
 "cells": [
  {
   "cell_type": "markdown",
   "metadata": {},
   "source": [
    "# ODE"
   ]
  },
  {
   "cell_type": "code",
   "execution_count": 14,
   "metadata": {},
   "outputs": [],
   "source": [
    "import matplotlib.pyplot as plt\n",
    "from scipy import integrate\n",
    "import numpy as np\n",
    "import scipy as sp\n",
    "from math import *\n",
    "%matplotlib inline"
   ]
  },
  {
   "cell_type": "code",
   "execution_count": 35,
   "metadata": {},
   "outputs": [],
   "source": [
    "# Python Code to find approximation \n",
    "# of a ordinary differential equation \n",
    "# using euler method. \n",
    "  \n",
    "# Consider a differential equation \n",
    "# dy / dx =(x + y + xy) \n",
    "def func( x, y ): \n",
    "    #return (x + y + x * y) \n",
    "    return -y #*x "
   ]
  },
  {
   "cell_type": "code",
   "execution_count": 36,
   "metadata": {},
   "outputs": [],
   "source": [
    "# Function for euler formula \n",
    "def euler( x0, y, h, x ): \n",
    "    temp = 0\n",
    "  \n",
    "    # Iterating \n",
    "    while x0 < x: \n",
    "        temp = y \n",
    "        y = y + h * func(x0, y) \n",
    "        x0 = x0 + h \n",
    "  \n",
    "    # Printing approximation \n",
    "    #print(\"Approximate solution at x = \", x, \" is \", \"%.6f\"% y) \n",
    "    return y"
   ]
  },
  {
   "cell_type": "code",
   "execution_count": 37,
   "metadata": {},
   "outputs": [],
   "source": [
    "# Driver Code \n",
    "# Initial Values \n",
    "x0 = 0\n",
    "y0 = 1\n",
    "h = 0.01"
   ]
  },
  {
   "cell_type": "code",
   "execution_count": 38,
   "metadata": {},
   "outputs": [
    {
     "data": {
      "text/plain": [
       "0.8953382542587165"
      ]
     },
     "execution_count": 38,
     "metadata": {},
     "output_type": "execute_result"
    }
   ],
   "source": [
    "# Value of x at which we need approximation \n",
    "x = 0.1\n",
    "  \n",
    "euler(x0, y0, h, x) "
   ]
  },
  {
   "cell_type": "code",
   "execution_count": 39,
   "metadata": {},
   "outputs": [
    {
     "data": {
      "text/plain": [
       "1.1051709180756477"
      ]
     },
     "execution_count": 39,
     "metadata": {},
     "output_type": "execute_result"
    }
   ],
   "source": [
    "np.exp(x)"
   ]
  },
  {
   "cell_type": "code",
   "execution_count": 40,
   "metadata": {},
   "outputs": [],
   "source": [
    "t = np.linspace(0, 3)"
   ]
  },
  {
   "cell_type": "code",
   "execution_count": 42,
   "metadata": {},
   "outputs": [
    {
     "data": {
      "text/plain": [
       "[<matplotlib.lines.Line2D at 0x114334ef0>]"
      ]
     },
     "execution_count": 42,
     "metadata": {},
     "output_type": "execute_result"
    },
    {
     "data": {
      "image/png": "[encoded data removed]",
      "text/plain": [
       "<matplotlib.figure.Figure at 0x114334b00>"
      ]
     },
     "metadata": {},
     "output_type": "display_data"
    }
   ],
   "source": [
    "plt.plot(t, np.exp(-t))\n",
    "plt.plot(t, [euler(x0, y0, h, i) for i in t], 'ro')"
   ]
  },
  {
   "cell_type": "markdown",
   "metadata": {},
   "source": [
    "## 2nd order"
   ]
  },
  {
   "cell_type": "code",
   "execution_count": 54,
   "metadata": {},
   "outputs": [],
   "source": [
    "def func( x, y ): \n",
    "    #return (x + y + x * y) \n",
    "    return -y #*x "
   ]
  },
  {
   "cell_type": "code",
   "execution_count": 61,
   "metadata": {},
   "outputs": [],
   "source": [
    "def dfunc( x, y ): \n",
    "    #return (x + y + x * y) \n",
    "    return y"
   ]
  },
  {
   "cell_type": "code",
   "execution_count": 62,
   "metadata": {},
   "outputs": [],
   "source": [
    "def Tay(x0, y, h):\n",
    "    return func(x0, y) + 0.5*h*dfunc(x0, y)"
   ]
  },
  {
   "cell_type": "code",
   "execution_count": 63,
   "metadata": {},
   "outputs": [],
   "source": [
    "# Function for euler formula \n",
    "def euler2( x0, y, h, x ): \n",
    "    temp = 0\n",
    "  \n",
    "    # Iterating \n",
    "    while x0 < x: \n",
    "        temp = y \n",
    "        y = y + h*Tay(x0, y, h) \n",
    "        x0 = x0 + h \n",
    "  \n",
    "    # Printing approximation \n",
    "    #print(\"Approximate solution at x = \", x, \" is \", \"%.6f\"% y) \n",
    "    return y"
   ]
  },
  {
   "cell_type": "code",
   "execution_count": 67,
   "metadata": {},
   "outputs": [],
   "source": [
    "# Driver Code \n",
    "# Initial Values \n",
    "x0 = 0\n",
    "y0 = 1\n",
    "h = 0.1"
   ]
  },
  {
   "cell_type": "code",
   "execution_count": 68,
   "metadata": {},
   "outputs": [
    {
     "data": {
      "text/plain": [
       "0.905"
      ]
     },
     "execution_count": 68,
     "metadata": {},
     "output_type": "execute_result"
    }
   ],
   "source": [
    "euler2(x0, y0, h, x) "
   ]
  },
  {
   "cell_type": "code",
   "execution_count": 69,
   "metadata": {},
   "outputs": [
    {
     "data": {
      "text/plain": [
       "[<matplotlib.lines.Line2D at 0x114aeb978>]"
      ]
     },
     "execution_count": 69,
     "metadata": {},
     "output_type": "execute_result"
    },
    {
     "data": {
      "image/png": "[encoded data removed]",
      "text/plain": [
       "<matplotlib.figure.Figure at 0x1149d42b0>"
      ]
     },
     "metadata": {},
     "output_type": "display_data"
    }
   ],
   "source": [
    "plt.plot(t, np.exp(-t))\n",
    "plt.plot(t, [euler2(x0, y0, h, i) for i in t], 'ro')\n",
    "plt.plot(t, [euler(x0, y0, h, i) for i in t], 'bo')"
   ]
  },
  {
   "cell_type": "markdown",
   "metadata": {},
   "source": [
    "http://people.bu.edu/andasari/courses/numericalpython/python.html"
   ]
  },
  {
   "cell_type": "code",
   "execution_count": 70,
   "metadata": {},
   "outputs": [
    {
     "name": "stdout",
     "output_type": "stream",
     "text": [
      "x \t\t y (RK2) \t y (analytical)\n",
      "0.000000 \t 1.000000 \t 1.000000\n",
      "0.500000 \t 1.125000 \t 1.133148\n",
      "1.000000 \t 1.599609 \t 1.648721\n",
      "1.500000 \t 2.849304 \t 3.080217\n",
      "2.000000 \t 6.277373 \t 7.389056\n"
     ]
    }
   ],
   "source": [
    "from math import exp\n",
    "dy = lambda x,y: x*y\n",
    "f = lambda x: exp(x**2/2)\n",
    "x = 0\n",
    "xn = 2\n",
    "y = 1\n",
    "dt = 0.5\n",
    "n = int((xn)/dt)\n",
    "print ('x \\t\\t y (RK2) \\t y (analytical)')\n",
    "print ('%f \\t %f \\t %f'% (x,y,f(x)))\n",
    "# main loop\n",
    "for i in range(n):\n",
    "    K1 = dt*dy(x, y) # step 1\n",
    "    K2 = dt*dy(x + dt/2, y + K1/2) # step 2\n",
    "    y += K2  # step 3\n",
    "    x += dt\n",
    "    print ('%f \\t %f \\t %f'% (x,y,f(x)))"
   ]
  },
  {
   "cell_type": "code",
   "execution_count": 121,
   "metadata": {},
   "outputs": [],
   "source": [
    "def midpoint(yinit, a, b, h):\n",
    "    n = int((b - a)/h)\n",
    "    \n",
    "    x = a\n",
    "    y = yinit\n",
    "    \n",
    "    xsol = [x]\n",
    "    ysol = [y] \n",
    "    for i in np.linspace(a,b,n):\n",
    "        y0prime = myFunc(x, y) \n",
    "        k1 = y0prime * (h/2)\n",
    "        yhalf = y + k1\n",
    "        y1prime = myFunc(x+h/2, yhalf) \n",
    "        \n",
    "        y +=  h*y1prime\n",
    "        x +=  h\n",
    "\n",
    "        xsol.append(x)\n",
    "        ysol.append(y)\n",
    "    return xsol, ysol\n",
    "\n",
    "\n",
    "def myFunc(x, y):\n",
    "    dy = 2 * x - 4 * x * y\n",
    "    return dy\n"
   ]
  },
  {
   "cell_type": "code",
   "execution_count": 122,
   "metadata": {},
   "outputs": [
    {
     "data": {
      "text/plain": [
       "[<matplotlib.lines.Line2D at 0x115c039e8>]"
      ]
     },
     "execution_count": 122,
     "metadata": {},
     "output_type": "execute_result"
    },
    {
     "data": {
      "image/png": "[encoded data removed]",
      "text/plain": [
       "<matplotlib.figure.Figure at 0x116029b70>"
      ]
     },
     "metadata": {},
     "output_type": "display_data"
    }
   ],
   "source": [
    "\n",
    "h = 0.1\n",
    "a,b = 0, 2 \n",
    "yinit = 4.0\n",
    "\n",
    "ts, ys= midpoint(yinit, a, b, h) \n",
    "yexact = [ 0.5 * (1 + 7 * np.exp(-2*i**2)) for i in np.linspace(0,2) ]\n",
    "\n",
    "plt.plot(ts, ys, 'r')\n",
    "plt.plot(np.linspace(0,2), yexact, 'b')\n"
   ]
  },
  {
   "cell_type": "markdown",
   "metadata": {},
   "source": [
    "# Modifed Euler Method"
   ]
  },
  {
   "cell_type": "code",
   "execution_count": 126,
   "metadata": {},
   "outputs": [],
   "source": [
    "def mod_euler(yinit, a, b, h):\n",
    "    n = int((b - a)/h)\n",
    "    \n",
    "    x = a\n",
    "    y = yinit\n",
    "    \n",
    "    xsol = [x]\n",
    "    ysol = [y] \n",
    "    for i in np.linspace(a,b,n):\n",
    "        k1 = myFunc(x, y)\n",
    "        ypredic = y + k1*h\n",
    "        k2 = myFunc(x+h,  ypredic)\n",
    "        \n",
    "        y +=  (h/2)*(k1+k2)\n",
    "        x +=  h\n",
    "\n",
    "        xsol.append(x)\n",
    "        ysol.append(y)\n",
    "    return xsol, ysol\n",
    "\n",
    "\n",
    "def myFunc(x, y):\n",
    "    dy = 2 * x - 4 * x * y\n",
    "    return dy"
   ]
  },
  {
   "cell_type": "code",
   "execution_count": 127,
   "metadata": {},
   "outputs": [
    {
     "data": {
      "text/plain": [
       "[<matplotlib.lines.Line2D at 0x11604e978>]"
      ]
     },
     "execution_count": 127,
     "metadata": {},
     "output_type": "execute_result"
    },
    {
     "data": {
      "image/png": "[encoded data removed]",
      "text/plain": [
       "<matplotlib.figure.Figure at 0x11604e780>"
      ]
     },
     "metadata": {},
     "output_type": "display_data"
    }
   ],
   "source": [
    "\n",
    "h = 0.1\n",
    "a,b = 0, 2 \n",
    "yinit = 4.0\n",
    "\n",
    "ts, ys= mod_euler(yinit, a, b, h) \n",
    "yexact = [ 0.5 * (1 + 7 * np.exp(-2*i**2)) for i in np.linspace(0,2) ]\n",
    "\n",
    "plt.plot(ts, ys, 'r')\n",
    "plt.plot(np.linspace(0,2), yexact, 'b')\n"
   ]
  },
  {
   "cell_type": "code",
   "execution_count": null,
   "metadata": {},
   "outputs": [],
   "source": []
  }
 ],
 "metadata": {
  "kernelspec": {
   "display_name": "Python 3",
   "language": "python",
   "name": "python3"
  },
  "language_info": {
   "codemirror_mode": {
    "name": "ipython",
    "version": 3
   },
   "file_extension": ".py",
   "mimetype": "text/x-python",
   "name": "python",
   "nbconvert_exporter": "python",
   "pygments_lexer": "ipython3",
   "version": "3.5.2"
  }
 },
 "nbformat": 4,
 "nbformat_minor": 2
}
