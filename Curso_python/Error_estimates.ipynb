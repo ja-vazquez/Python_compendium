{
 "cells": [
  {
   "cell_type": "code",
   "execution_count": 198,
   "metadata": {},
   "outputs": [],
   "source": [
    "from sympy import symbols \n",
    "from sympy import exp, cos, pi\n",
    "import math as m\n",
    "import numpy as np\n",
    "%matplotlib inline"
   ]
  },
  {
   "cell_type": "code",
   "execution_count": 2,
   "metadata": {},
   "outputs": [
    {
     "data": {
      "text/plain": [
       "2.9999999999999996"
      ]
     },
     "execution_count": 2,
     "metadata": {},
     "output_type": "execute_result"
    }
   ],
   "source": [
    "(m.sqrt(3))**2"
   ]
  },
  {
   "cell_type": "code",
   "execution_count": 3,
   "metadata": {},
   "outputs": [
    {
     "data": {
      "text/plain": [
       "0.30000000000000004"
      ]
     },
     "execution_count": 3,
     "metadata": {},
     "output_type": "execute_result"
    }
   ],
   "source": [
    "# Numbers cannot be represented exactly\n",
    "0.1+ 0.2 "
   ]
  },
  {
   "cell_type": "code",
   "execution_count": 4,
   "metadata": {},
   "outputs": [
    {
     "data": {
      "text/plain": [
       "'0b11'"
      ]
     },
     "execution_count": 4,
     "metadata": {},
     "output_type": "execute_result"
    }
   ],
   "source": [
    "bin(3)"
   ]
  },
  {
   "cell_type": "code",
   "execution_count": 6,
   "metadata": {},
   "outputs": [
    {
     "data": {
      "text/plain": [
       "'-0b10101111'"
      ]
     },
     "execution_count": 6,
     "metadata": {},
     "output_type": "execute_result"
    }
   ],
   "source": [
    "bin(-175)"
   ]
  },
  {
   "cell_type": "markdown",
   "metadata": {},
   "source": [
    "## Machine epsilon"
   ]
  },
  {
   "cell_type": "code",
   "execution_count": 7,
   "metadata": {},
   "outputs": [
    {
     "data": {
      "text/plain": [
       "2.220446049250313e-16"
      ]
     },
     "execution_count": 7,
     "metadata": {},
     "output_type": "execute_result"
    }
   ],
   "source": [
    "7./3 - 4./3 -1"
   ]
  },
  {
   "cell_type": "code",
   "execution_count": 10,
   "metadata": {},
   "outputs": [
    {
     "name": "stdout",
     "output_type": "stream",
     "text": [
      "2.220446049250313e-16\n",
      "1.1920929e-07\n"
     ]
    }
   ],
   "source": [
    "print(np.finfo(float).eps)\n",
    "# 2.22044604925e-16\n",
    "\n",
    "print(np.finfo(np.float32).eps)\n",
    "# 1.19209e-07"
   ]
  },
  {
   "cell_type": "code",
   "execution_count": null,
   "metadata": {},
   "outputs": [],
   "source": []
  },
  {
   "cell_type": "markdown",
   "metadata": {},
   "source": [
    "# Cumulative effect"
   ]
  },
  {
   "cell_type": "code",
   "execution_count": 36,
   "metadata": {},
   "outputs": [],
   "source": [
    "x1 = np.single(0.00001)\n",
    "y1 = np.double(0.00001)"
   ]
  },
  {
   "cell_type": "code",
   "execution_count": 37,
   "metadata": {},
   "outputs": [
    {
     "data": {
      "text/plain": [
       "(0.9999999747378752, 0.9999999999980838)"
      ]
     },
     "execution_count": 37,
     "metadata": {},
     "output_type": "execute_result"
    }
   ],
   "source": [
    "xt, yt = 0, 0\n",
    "for i in range(10**5):\n",
    "    xt+= x1\n",
    "    yt+= y1\n",
    "xt, yt"
   ]
  },
  {
   "cell_type": "code",
   "execution_count": null,
   "metadata": {},
   "outputs": [],
   "source": []
  },
  {
   "cell_type": "markdown",
   "metadata": {},
   "source": [
    "# Taylor"
   ]
  },
  {
   "cell_type": "code",
   "execution_count": 38,
   "metadata": {},
   "outputs": [],
   "source": [
    "x = symbols('x')"
   ]
  },
  {
   "cell_type": "code",
   "execution_count": 39,
   "metadata": {},
   "outputs": [],
   "source": [
    "def series(func, n, x0=0):\n",
    "    \"\"\"n is the order of the series, x0 where to evaluate it on\"\"\"\n",
    "    return func.series(x, x0, n).removeO()"
   ]
  },
  {
   "cell_type": "code",
   "execution_count": 40,
   "metadata": {},
   "outputs": [
    {
     "data": {
      "text/latex": [
       "$\\displaystyle \\frac{x^{4}}{24} + \\frac{x^{3}}{6} + \\frac{x^{2}}{2} + x + 1$"
      ],
      "text/plain": [
       "x**4/24 + x**3/6 + x**2/2 + x + 1"
      ]
     },
     "execution_count": 40,
     "metadata": {},
     "output_type": "execute_result"
    }
   ],
   "source": [
    "series(exp(x), 5)"
   ]
  },
  {
   "cell_type": "code",
   "execution_count": 41,
   "metadata": {},
   "outputs": [],
   "source": [
    "def series_value(func, x_val, n, x0=0):\n",
    "    return series(func, n, x0=x0).subs({x:x_val})"
   ]
  },
  {
   "cell_type": "markdown",
   "metadata": {},
   "source": [
    "Considering that $e^{0.5} = 1.648721$"
   ]
  },
  {
   "cell_type": "code",
   "execution_count": 42,
   "metadata": {},
   "outputs": [
    {
     "name": "stdout",
     "output_type": "stream",
     "text": [
      "term\t error \t \t \t approx \n",
      "\n",
      "term=1\t 39.3469340287367 \t 1\n",
      "term=2\t 9.02040104310499 \t 1.50000000000000\n",
      "term=3\t 1.43876779669707 \t 1.62500000000000\n",
      "term=4\t 0.175162255629090 \t 1.64583333333333\n",
      "term=5\t 0.0172115629955869 \t 1.64843750000000\n",
      "term=6\t 0.00141649373223802 \t 1.64869791666667\n",
      "term=7\t 0.000100237960297884 \t 1.64871961805556\n",
      "term=8\t 6.21969087455084e-6 \t 1.64872116815476\n",
      "term=9\t 3.43549035592512e-7 \t 1.64872126503596\n"
     ]
    }
   ],
   "source": [
    "around   = 0.5\n",
    "order    = 10\n",
    "\n",
    "expr     = exp(x)\n",
    "true_val = m.exp(around)\n",
    "\n",
    "\n",
    "\n",
    "print('term\\t error \\t \\t \\t approx \\n')\n",
    "for i in range(1, order):\n",
    "    approx = series_value( expr, around, i)\n",
    "    print ('term=%d\\t'%i, (true_val -approx)/true_val*100, '\\t', approx)"
   ]
  },
  {
   "cell_type": "markdown",
   "metadata": {},
   "source": [
    "# Exp(10), Exp(-10)"
   ]
  },
  {
   "cell_type": "code",
   "execution_count": 60,
   "metadata": {},
   "outputs": [
    {
     "name": "stdout",
     "output_type": "stream",
     "text": [
      "term=1\t exact: 148.4131591 \t approx: 1.0000000 \t error: 99.32620530009146\n",
      "term=2\t exact: 148.4131591 \t approx: 6.0000000 \t error: 95.95723180054871\n",
      "term=3\t exact: 148.4131591 \t approx: 18.5000000 \t error: 87.5347980516919\n",
      "term=4\t exact: 148.4131591 \t approx: 39.3333333 \t error: 73.49740847026384\n",
      "term=5\t exact: 148.4131591 \t approx: 65.3750000 \t error: 55.95067149347875\n",
      "term=6\t exact: 148.4131591 \t approx: 91.4166667 \t error: 38.40393451669368\n",
      "term=7\t exact: 148.4131591 \t approx: 113.1180556 \t error: 23.781653702706127\n",
      "term=8\t exact: 148.4131591 \t approx: 128.6190476 \t error: 13.337167407000727\n",
      "term=9\t exact: 148.4131591 \t approx: 138.3071677 \t error: 6.8093634721848595\n",
      "term=10\t exact: 148.4131591 \t approx: 143.6894566 \t error: 3.1828057306204913\n",
      "term=11\t exact: 148.4131591 \t approx: 146.3806010 \t error: 1.3695268598383081\n",
      "term=12\t exact: 148.4131591 \t approx: 147.6038485 \t error: 0.5453091913009468\n",
      "term=13\t exact: 148.4131591 \t approx: 148.1135350 \t error: 0.20188516274370644\n",
      "term=14\t exact: 148.4131591 \t approx: 148.3095682 \t error: 0.0697989979140001\n",
      "term=15\t exact: 148.4131591 \t approx: 148.3795801 \t error: 0.022625367617681875\n",
      "term=16\t exact: 148.4131591 \t approx: 148.4029174 \t error: 0.006900824185575804\n",
      "term=17\t exact: 148.4131591 \t approx: 148.4102103 \t error: 0.0019869043630462474\n",
      "term=18\t exact: 148.4131591 \t approx: 148.4123552 \t error: 0.0005416338270160276\n",
      "term=19\t exact: 148.4131591 \t approx: 148.4129511 \t error: 0.0001401697892245359\n",
      "term=20\t exact: 148.4131591 \t approx: 148.4131079 \t error: 3.4521358219719536e-05\n",
      "term=21\t exact: 148.4131591 \t approx: 148.4131471 \t error: 8.109250468515438e-06\n",
      "term=22\t exact: 148.4131591 \t approx: 148.4131564 \t error: 1.8206533848954173e-06\n",
      "term=23\t exact: 148.4131591 \t approx: 148.4131585 \t error: 3.9142678368650166e-07\n",
      "term=24\t exact: 148.4131591 \t approx: 148.4131590 \t error: 8.072533948219966e-08\n",
      "term=25\t exact: 148.4131591 \t approx: 148.4131591 \t error: 1.5995867152037458e-08\n",
      "term=26\t exact: 148.4131591 \t approx: 148.4131591 \t error: 3.0499688559255782e-09\n",
      "term=27\t exact: 148.4131591 \t approx: 148.4131591 \t error: 5.603789221801178e-10\n",
      "term=28\t exact: 148.4131591 \t approx: 148.4131591 \t error: 9.935226055192573e-11\n",
      "term=29\t exact: 148.4131591 \t approx: 148.4131591 \t error: 1.7024703089950263e-11\n"
     ]
    }
   ],
   "source": [
    "x_val   = 5.0\n",
    "order   = 30\n",
    "expr = exp(x)\n",
    "\n",
    "true_val= m.exp(x_val)\n",
    "\n",
    "for i in range(1, order):\n",
    "    approx = float(series_value(expr, x_val, i))\n",
    "    print ('term=%d\\t'%i, 'exact: %6.7f \\t approx: %6.7f \\t error:'%(true_val, approx), (true_val -approx)/true_val*100)\n",
    "    \n",
    "#for -10, what's happening with the sign in exp(), could be negative?"
   ]
  },
  {
   "cell_type": "markdown",
   "metadata": {},
   "source": [
    "# HW: $e^{-x}= \\frac{1}{e^x} = \\frac{1}{1+x+\\frac{x^2}{2}+ \\frac{x^3}{3!}\\cdots}$ "
   ]
  },
  {
   "cell_type": "code",
   "execution_count": null,
   "metadata": {},
   "outputs": [],
   "source": []
  },
  {
   "cell_type": "code",
   "execution_count": null,
   "metadata": {},
   "outputs": [],
   "source": []
  },
  {
   "cell_type": "markdown",
   "metadata": {},
   "source": [
    "# Quadratic eqn\n",
    "\n",
    "solns : x1=-0.001, x2=-3000"
   ]
  },
  {
   "cell_type": "code",
   "execution_count": 115,
   "metadata": {},
   "outputs": [],
   "source": [
    "a, b, c = 1, 3000.001, 3"
   ]
  },
  {
   "cell_type": "code",
   "execution_count": 116,
   "metadata": {},
   "outputs": [
    {
     "data": {
      "text/plain": [
       "-0.0009999999999763531"
      ]
     },
     "execution_count": 116,
     "metadata": {},
     "output_type": "execute_result"
    }
   ],
   "source": [
    "y1 = (-b + m.sqrt(b**2 - 4*a*c))/(2*a)\n",
    "y1"
   ]
  },
  {
   "cell_type": "code",
   "execution_count": 117,
   "metadata": {},
   "outputs": [
    {
     "data": {
      "text/plain": [
       "-3000.0"
      ]
     },
     "execution_count": 117,
     "metadata": {},
     "output_type": "execute_result"
    }
   ],
   "source": [
    "y2 = (-b - m.sqrt(b**2 - 4*a*c))/(2*a)\n",
    "y2"
   ]
  },
  {
   "cell_type": "markdown",
   "metadata": {},
   "source": [
    "or, for $b^2 \\gg 4ac$, better use\n",
    "\n",
    "$\\frac{-2c}{b\\pm \\sqrt{b^2 - 4ac}}$"
   ]
  },
  {
   "cell_type": "code",
   "execution_count": 118,
   "metadata": {},
   "outputs": [
    {
     "data": {
      "text/plain": [
       "-0.001"
      ]
     },
     "execution_count": 118,
     "metadata": {},
     "output_type": "execute_result"
    }
   ],
   "source": [
    "z1 = -2*c/(b + m.sqrt(b**2 - 4*a*c))\n",
    "z1"
   ]
  },
  {
   "cell_type": "code",
   "execution_count": null,
   "metadata": {},
   "outputs": [],
   "source": []
  },
  {
   "cell_type": "markdown",
   "metadata": {},
   "source": [
    "# HW:\n",
    "\n",
    "Use Taylor expansion to approximate f(x)=cos(x) at $x_{i+1}=\\pi/3$,\n",
    "on the basis $x_i=\\pi/4$\n",
    "\n",
    "How many terms do we need to achive $\\epsilon_t \\sim 10^{-6}$"
   ]
  },
  {
   "cell_type": "code",
   "execution_count": 130,
   "metadata": {},
   "outputs": [
    {
     "data": {
      "text/latex": [
       "$\\displaystyle - \\frac{\\sqrt{2} \\left(x - \\frac{\\pi}{4}\\right)^{2}}{4} - \\frac{\\sqrt{2} \\left(x - \\frac{\\pi}{4}\\right)}{2} + \\frac{\\sqrt{2}}{2}$"
      ],
      "text/plain": [
       "-sqrt(2)*(x - pi/4)**2/4 - sqrt(2)*(x - pi/4)/2 + sqrt(2)/2"
      ]
     },
     "execution_count": 130,
     "metadata": {},
     "output_type": "execute_result"
    }
   ],
   "source": [
    "expr = cos(x)\n",
    "around = pi/3\n",
    "\n",
    "series(expr, 3, pi/4)"
   ]
  },
  {
   "cell_type": "code",
   "execution_count": 131,
   "metadata": {},
   "outputs": [
    {
     "name": "stdout",
     "output_type": "stream",
     "text": [
      "order n 0\t -41.4213562373095\n",
      "order n 1\t -4.39733175265646\n",
      "order n 2\t 0.449101719314993\n",
      "order n 3\t 0.0261706139911833\n",
      "order n 4\t -0.00151016212257549\n",
      "order n 5\t -6.08000744861670e-5\n",
      "order n 6\t 2.44027499318733e-6\n"
     ]
    }
   ],
   "source": [
    "for i in range(7):\n",
    "    approx = series_value(expr, around, i+1, x0=pi/4)\n",
    "    print ('order n %d\\t'%i, (1 - (approx/expr.evalf(subs={x:pi/3})).evalf())*100)"
   ]
  },
  {
   "cell_type": "code",
   "execution_count": null,
   "metadata": {},
   "outputs": [],
   "source": []
  },
  {
   "cell_type": "markdown",
   "metadata": {},
   "source": [
    "# Taylor polynomial"
   ]
  },
  {
   "cell_type": "code",
   "execution_count": 132,
   "metadata": {},
   "outputs": [],
   "source": [
    "expr = -0.1*x**4 - 0.15*x**3 - 0.5*x**2 - 0.25*x + 1.2"
   ]
  },
  {
   "cell_type": "code",
   "execution_count": 133,
   "metadata": {},
   "outputs": [
    {
     "data": {
      "text/latex": [
       "$\\displaystyle - 0.5 x^{2} - 0.25 x + 1.2$"
      ],
      "text/plain": [
       "-0.5*x**2 - 0.25*x + 1.2"
      ]
     },
     "execution_count": 133,
     "metadata": {},
     "output_type": "execute_result"
    }
   ],
   "source": [
    "series(expr, 3)"
   ]
  },
  {
   "cell_type": "code",
   "execution_count": 134,
   "metadata": {},
   "outputs": [],
   "source": [
    "import matplotlib.pyplot as plt"
   ]
  },
  {
   "cell_type": "code",
   "execution_count": 135,
   "metadata": {},
   "outputs": [
    {
     "data": {
      "image/png": "[encoded data removed]",
      "text/plain": [
       "<matplotlib.figure.Figure at 0x116fee278>"
      ]
     },
     "metadata": {},
     "output_type": "display_data"
    }
   ],
   "source": [
    "h = np.linspace(0,1.2, 10)\n",
    "y = [expr.subs({x:i}) for i in h]\n",
    "plt.plot(h, y, 'yo-')\n",
    "\n",
    "y1 = [series(expr, 1).subs({x:i}) for i in h]\n",
    "plt.plot(h, y1, label='zero order')\n",
    "\n",
    "y2 = [series(expr, 2).subs({x:i}) for i in h]\n",
    "plt.plot(h, y2, label='first order')\n",
    "\n",
    "y3 = [series(expr, 4).subs({x:i}) for i in h]\n",
    "plt.plot(h, y3, label='third order')\n",
    "\n",
    "plt.vlines(1,-1, 1.4)\n",
    "plt.legend(loc='best')\n",
    "plt.show()"
   ]
  },
  {
   "cell_type": "code",
   "execution_count": 146,
   "metadata": {},
   "outputs": [],
   "source": [
    "y = lambda x: -0.1*x**4 - 0.15*x**3 - 0.5*x**2 - 0.25*x + 1.2\n",
    "yder = lambda x : -0.4*x**3 - 0.45*x**2 - 1.0*x - 0.25"
   ]
  },
  {
   "cell_type": "code",
   "execution_count": 147,
   "metadata": {},
   "outputs": [],
   "source": [
    "x = np.linspace(0,1.0, 10)"
   ]
  },
  {
   "cell_type": "code",
   "execution_count": 150,
   "metadata": {},
   "outputs": [
    {
     "data": {
      "image/png": "[encoded data removed]",
      "text/plain": [
       "<matplotlib.figure.Figure at 0x1178e2908>"
      ]
     },
     "metadata": {},
     "output_type": "display_data"
    }
   ],
   "source": [
    "plt.plot(x, y(x), 'r')\n",
    "plt.plot(x, yder(x), label='deriv')\n",
    "plt.legend()\n",
    "plt.show()"
   ]
  },
  {
   "cell_type": "code",
   "execution_count": 149,
   "metadata": {},
   "outputs": [
    {
     "data": {
      "text/plain": [
       "-0.9125"
      ]
     },
     "execution_count": 149,
     "metadata": {},
     "output_type": "execute_result"
    }
   ],
   "source": [
    "yder(0.5)"
   ]
  },
  {
   "cell_type": "code",
   "execution_count": 154,
   "metadata": {},
   "outputs": [],
   "source": [
    "def derivative(x0, h):\n",
    "    xni, xi, xpi = x0-h, x0, x0+h\n",
    "    fni, fi, fpi = y(xni), y(xi), y(xpi)\n",
    "    \n",
    "    dforward  = (fpi - fi)/h\n",
    "    dbackward = (fi - fni)/h\n",
    "    dcenterd  = (fpi - fni)/(2*h)\n",
    "    \n",
    "    return dforward, dbackward, dcenterd"
   ]
  },
  {
   "cell_type": "code",
   "execution_count": 193,
   "metadata": {},
   "outputs": [
    {
     "data": {
      "text/plain": [
       "(-0.9212850999999911, -0.9037849000000042, -0.9125349999999977)"
      ]
     },
     "execution_count": 193,
     "metadata": {},
     "output_type": "execute_result"
    }
   ],
   "source": [
    "x0, h= 0.5, 0.01  #0.000000001\n",
    "derivative(x0, h) "
   ]
  },
  {
   "cell_type": "code",
   "execution_count": 194,
   "metadata": {},
   "outputs": [
    {
     "name": "stdout",
     "output_type": "stream",
     "text": [
      "Error (%): 0.9627506849305325\n",
      "Error (%): -0.9550794520543295\n",
      "Error (%): 0.0038356164381014553\n"
     ]
    }
   ],
   "source": [
    "for i in derivative(x0, h):\n",
    "    print('Error (%):', (i - yder(x0))/yder(x0)*100)"
   ]
  },
  {
   "cell_type": "markdown",
   "metadata": {},
   "source": []
  },
  {
   "cell_type": "code",
   "execution_count": null,
   "metadata": {},
   "outputs": [],
   "source": []
  }
 ],
 "metadata": {
  "kernelspec": {
   "display_name": "Python 3",
   "language": "python",
   "name": "python3"
  },
  "language_info": {
   "codemirror_mode": {
    "name": "ipython",
    "version": 3
   },
   "file_extension": ".py",
   "mimetype": "text/x-python",
   "name": "python",
   "nbconvert_exporter": "python",
   "pygments_lexer": "ipython3",
   "version": "3.5.2"
  }
 },
 "nbformat": 4,
 "nbformat_minor": 2
}
