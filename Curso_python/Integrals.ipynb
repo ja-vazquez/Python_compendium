{
 "cells": [
  {
   "cell_type": "markdown",
   "metadata": {},
   "source": [
    "# Differentiation and Integration"
   ]
  },
  {
   "cell_type": "code",
   "execution_count": 16,
   "metadata": {},
   "outputs": [],
   "source": [
    "import matplotlib.pyplot as plt\n",
    "from scipy import integrate\n",
    "import numpy as np\n",
    "import scipy as sp\n",
    "from math import *\n",
    "%matplotlib inline"
   ]
  },
  {
   "cell_type": "code",
   "execution_count": 2,
   "metadata": {},
   "outputs": [],
   "source": [
    "def func(x):\n",
    "    return np.sin(x)+1"
   ]
  },
  {
   "cell_type": "markdown",
   "metadata": {},
   "source": [
    "# Trapezoidal"
   ]
  },
  {
   "cell_type": "code",
   "execution_count": 43,
   "metadata": {},
   "outputs": [],
   "source": [
    "x = np.linspace(-0.5, 2.5)\n",
    "x0 = np.linspace(0., 2.)"
   ]
  },
  {
   "cell_type": "code",
   "execution_count": 56,
   "metadata": {},
   "outputs": [
    {
     "data": {
      "text/plain": [
       "(-1, 3)"
      ]
     },
     "execution_count": 56,
     "metadata": {},
     "output_type": "execute_result"
    },
    {
     "data": {
      "image/png": "[encoded data removed]",
      "text/plain": [
       "<matplotlib.figure.Figure at 0x11840a860>"
      ]
     },
     "metadata": {},
     "output_type": "display_data"
    }
   ],
   "source": [
    "plt.plot(x, func(x))\n",
    "plt.fill_between(x0, 1+(func(2)-1)/2*x0, y2=1, color='r')\n",
    "plt.fill_between(x0, 1, color='g')\n",
    "plt.ylim(0, 2.5)\n",
    "plt.xlim(-1, 3)"
   ]
  },
  {
   "cell_type": "code",
   "execution_count": null,
   "metadata": {},
   "outputs": [],
   "source": []
  },
  {
   "cell_type": "code",
   "execution_count": 61,
   "metadata": {},
   "outputs": [],
   "source": [
    "def trapz(x0, h):\n",
    "    x1= x0+h\n",
    "    return 0.5*(x1-x0)*(func(x0) + func(x1))"
   ]
  },
  {
   "cell_type": "code",
   "execution_count": 62,
   "metadata": {},
   "outputs": [
    {
     "data": {
      "text/plain": [
       "2.909297426825682"
      ]
     },
     "execution_count": 62,
     "metadata": {},
     "output_type": "execute_result"
    }
   ],
   "source": [
    "trapz(0, 2)"
   ]
  },
  {
   "cell_type": "code",
   "execution_count": 63,
   "metadata": {},
   "outputs": [],
   "source": [
    "def Simps(x0, h):\n",
    "    return h/3.*(func(x0) + 4*func(x0+h)+ func(x0+2*h))"
   ]
  },
  {
   "cell_type": "code",
   "execution_count": 64,
   "metadata": {},
   "outputs": [
    {
     "data": {
      "text/plain": [
       "3.4250604553524227"
      ]
     },
     "execution_count": 64,
     "metadata": {},
     "output_type": "execute_result"
    }
   ],
   "source": [
    "Simps(0, 1)"
   ]
  },
  {
   "cell_type": "code",
   "execution_count": 78,
   "metadata": {},
   "outputs": [
    {
     "data": {
      "text/plain": [
       "(3.415950225946124, 3.41614420056015, 3.416146836547142)"
      ]
     },
     "execution_count": 78,
     "metadata": {},
     "output_type": "execute_result"
    }
   ],
   "source": [
    "#using numpy\n",
    "#2*(func(2)-1)/2. + 2\n",
    "np.trapz(func(x0), x0), integrate.simps(func(x0), x0), -np.cos(2)+np.cos(0)+2"
   ]
  },
  {
   "cell_type": "markdown",
   "metadata": {},
   "source": [
    "# Midpoint"
   ]
  },
  {
   "cell_type": "code",
   "execution_count": 82,
   "metadata": {},
   "outputs": [
    {
     "data": {
      "text/plain": [
       "(-1, 3)"
      ]
     },
     "execution_count": 82,
     "metadata": {},
     "output_type": "execute_result"
    },
    {
     "data": {
      "image/png": "[encoded data removed]",
      "text/plain": [
       "<matplotlib.figure.Figure at 0x11fa1fdd8>"
      ]
     },
     "metadata": {},
     "output_type": "display_data"
    }
   ],
   "source": [
    "plt.plot(x, func(x))\n",
    "plt.fill_between(x0, func(1), color='r')\n",
    "plt.ylim(0, 2.5)\n",
    "plt.xlim(-1, 3)"
   ]
  },
  {
   "cell_type": "markdown",
   "metadata": {},
   "source": [
    "# Composite Trapezoidal"
   ]
  },
  {
   "cell_type": "code",
   "execution_count": 21,
   "metadata": {},
   "outputs": [],
   "source": [
    "# Trapezoidal Method\n",
    "def f(x):\n",
    "    return np.sin(x)+1 #1/(1 + x**2)"
   ]
  },
  {
   "cell_type": "code",
   "execution_count": 34,
   "metadata": {},
   "outputs": [],
   "source": [
    "from random import randint\n",
    "\n",
    "# Implementing trapezoidal method\n",
    "def trapezoidal(x0,xn,n):\n",
    "    # calculating step size\n",
    "    h = (xn - x0) / n\n",
    "    \n",
    "    # Finding sum \n",
    "    integration = f(x0) + f(xn)\n",
    "    \n",
    "    \n",
    "    #plt.fill_between([x0*h, (x0+1)*h], [f(x0*h), f((x0)*h)], color='red' )\n",
    "    plt.fill_between([x0*h, (x0+1)*h], [f(x0*h), f((x0+1)*h)], color='red' )\n",
    "    for i in range(1,n):\n",
    "        k = x0 + i*h\n",
    "        integration = integration + 2 * f(k)\n",
    "           \n",
    "        #plt.fill_between([(i)*h, (i+1)*h], [f(i*h), f((i+0)*h)], color='#%06X' % randint(0, 0xFFFFFF))\n",
    "        plt.fill_between([(i)*h, (i+1)*h], [f(i*h), f((i+1)*h)], color='#%06X' % randint(0, 0xFFFFFF))\n",
    "    \n",
    "    x0 = np.linspace(x0 , xn, 30)\n",
    "    plt.plot(x0, f(x0))\n",
    "    #plt.ylim(-1, 1.5)\n",
    "    #plt.xlim(-1, 3)\n",
    "    # Finding final integration value\n",
    "    integration = integration * h/2\n",
    "    \n",
    "    return integration"
   ]
  },
  {
   "cell_type": "code",
   "execution_count": 41,
   "metadata": {},
   "outputs": [
    {
     "name": "stdout",
     "output_type": "stream",
     "text": [
      "Integration result by Trapezoidal method is: 3.386520\n"
     ]
    },
    {
     "data": {
      "image/png": "[encoded data removed]",
      "text/plain": [
       "<matplotlib.figure.Figure at 0x11a7adef0>"
      ]
     },
     "metadata": {},
     "output_type": "display_data"
    }
   ],
   "source": [
    "# Call trapezoidal() method and get result\n",
    "result = trapezoidal(0, 2, 4)\n",
    "print(\"Integration result by Trapezoidal method is: %0.6f\" % (result) )"
   ]
  },
  {
   "cell_type": "markdown",
   "metadata": {},
   "source": [
    "# Simpson's "
   ]
  },
  {
   "cell_type": "code",
   "execution_count": 134,
   "metadata": {},
   "outputs": [],
   "source": [
    "\n",
    "# Implementing Simpson's 1/3 \n",
    "def simpson13(x0,xn,n):\n",
    "    # calculating step size\n",
    "    h = (xn - x0) / n\n",
    "    \n",
    "    # Finding sum \n",
    "    integration = f(x0) + f(xn)\n",
    "    \n",
    "    for i in range(1,n):\n",
    "        k = x0 + i*h\n",
    "        \n",
    "        if: \n",
    "            if i%2 == 0:\n",
    "                integration = integration + 2 * f(k)\n",
    "            else:\n",
    "                integration = integration + 4 * f(k)\n",
    "        else:\n",
    "            \n",
    "    \n",
    "    # Finding final integration value\n",
    "    integration = integration * h/3\n",
    "    \n",
    "    return integration\n"
   ]
  },
  {
   "cell_type": "code",
   "execution_count": 157,
   "metadata": {},
   "outputs": [
    {
     "name": "stdout",
     "output_type": "stream",
     "text": [
      "Integration result by Simpson's 1/3 method is: 2.000000\n"
     ]
    }
   ],
   "source": [
    "# Call trapezoidal() method and get result\n",
    "result = simpson13(0, 2, 20)\n",
    "print(\"Integration result by Simpson's 1/3 method is: %0.6f\" % (result) )"
   ]
  },
  {
   "cell_type": "markdown",
   "metadata": {},
   "source": [
    "# Romberg"
   ]
  },
  {
   "cell_type": "markdown",
   "metadata": {},
   "source": [
    "$R_{k,1} = \\frac{1}{2} \\left[R_{k-1, 1} + h_{k-1}\\sum^{2^{k-2}}_{i=1} f(a+ (2i-1)h_k) \\right]$"
   ]
  },
  {
   "cell_type": "markdown",
   "metadata": {},
   "source": [
    "$\\int^\\pi_0 sinx dx $"
   ]
  },
  {
   "cell_type": "code",
   "execution_count": 4,
   "metadata": {},
   "outputs": [],
   "source": [
    "def func(x):\n",
    "    return np.sin(x)"
   ]
  },
  {
   "cell_type": "code",
   "execution_count": 12,
   "metadata": {},
   "outputs": [],
   "source": [
    "b, a = np.pi, 0\n",
    "h1 = (b-a)"
   ]
  },
  {
   "cell_type": "code",
   "execution_count": 13,
   "metadata": {},
   "outputs": [
    {
     "data": {
      "text/plain": [
       "1.9236706937217898e-16"
      ]
     },
     "execution_count": 13,
     "metadata": {},
     "output_type": "execute_result"
    }
   ],
   "source": [
    "R11 = 0.5*(b-a)*(func(a)+func(b))\n",
    "R11"
   ]
  },
  {
   "cell_type": "code",
   "execution_count": 15,
   "metadata": {},
   "outputs": [
    {
     "data": {
      "text/plain": [
       "1.5707963267948966"
      ]
     },
     "execution_count": 15,
     "metadata": {},
     "output_type": "execute_result"
    }
   ],
   "source": [
    "R21 = 0.5*(R11 + h1*func(a+h1/2.))\n",
    "R21"
   ]
  },
  {
   "cell_type": "code",
   "execution_count": 17,
   "metadata": {},
   "outputs": [
    {
     "data": {
      "text/plain": [
       "1.8961188979370398"
      ]
     },
     "execution_count": 17,
     "metadata": {},
     "output_type": "execute_result"
    }
   ],
   "source": [
    "R31 = 0.5*(R21 + 0.5*h1*(func(a+h1/4.) + func(a+ 3*h1/4) ))\n",
    "R31"
   ]
  },
  {
   "cell_type": "markdown",
   "metadata": {},
   "source": [
    "# In gral"
   ]
  },
  {
   "cell_type": "code",
   "execution_count": 162,
   "metadata": {},
   "outputs": [],
   "source": [
    "def print_row(lst):\n",
    "    print (' '.join('%11.8f' % x for x in lst))\n",
    "\n",
    "def romberg(f, a, b, eps = 1E-8):\n",
    "    \"\"\"Approximate the definite integral of f from a to b by Romberg's method.\n",
    "    eps is the desired accuracy.\"\"\"\n",
    "    \n",
    "    # DEfine R11\n",
    "    R = [[0.5 * (b - a) * (f(a) + f(b))]]  # R[0][0]\n",
    "    print_row(R[0])\n",
    "    n = 1\n",
    "    \n",
    "    while True:\n",
    "        h = float(b-a)/2**n\n",
    "        R.append((n+1)*[None])  # Add an empty row.\n",
    "        R[n][0] = 0.5*R[n-1][0] + h*sum(f(a+(2*k-1)*h) for k in range(1, 2**(n-1)+1)) # for proper limits\n",
    "        for m in range(1, n+1):\n",
    "            R[n][m] = R[n][m-1] + (R[n][m-1] - R[n-1][m-1]) / (4**m - 1)\n",
    "        print_row(R[n])\n",
    "        if abs(R[n][n-1] - R[n][n]) < eps:\n",
    "            return R[n][n]\n",
    "        n += 1\n"
   ]
  },
  {
   "cell_type": "code",
   "execution_count": 170,
   "metadata": {},
   "outputs": [
    {
     "name": "stdout",
     "output_type": "stream",
     "text": [
      " 0.77174333\n",
      " 0.82526296  0.84310283\n",
      " 0.83836778  0.84273605  0.84271160\n",
      " 0.84161922  0.84270304  0.84270083  0.84270066\n",
      " 0.84243051  0.84270093  0.84270079  0.84270079  0.84270079\n"
     ]
    },
    {
     "data": {
      "text/plain": [
       "0.8427007932686705"
      ]
     },
     "execution_count": 170,
     "metadata": {},
     "output_type": "execute_result"
    }
   ],
   "source": [
    "#from math import *\n",
    "\n",
    "romberg(lambda t: 2/sqrt(pi)*exp(-t*t), 0, 1)\n",
    "#romberg(f, 0, 2)"
   ]
  },
  {
   "cell_type": "markdown",
   "metadata": {},
   "source": [
    "# Gaussian Quadrature"
   ]
  },
  {
   "cell_type": "code",
   "execution_count": 33,
   "metadata": {},
   "outputs": [],
   "source": [
    "c21, c22 = 0.5773, -0.5773\n",
    "c31, c32, c33 = 0.774, 0, -0.774\n",
    "x1, x2, x3 = 0.555, 0.888, 0.555"
   ]
  },
  {
   "cell_type": "markdown",
   "metadata": {},
   "source": [
    "$\\int^{1.5}_1 e^{-x^2}dx = \\frac{1}{4}e^{(-(t+5)^2/16)}dt$"
   ]
  },
  {
   "cell_type": "code",
   "execution_count": 31,
   "metadata": {},
   "outputs": [
    {
     "data": {
      "text/plain": [
       "0.10939946900866954"
      ]
     },
     "execution_count": 31,
     "metadata": {},
     "output_type": "execute_result"
    }
   ],
   "source": [
    "#n=2\n",
    "0.25*(np.exp(-(5+c21)**2/16) + np.exp( -(5+c22)**2/16)  )"
   ]
  },
  {
   "cell_type": "code",
   "execution_count": 34,
   "metadata": {},
   "outputs": [
    {
     "data": {
      "text/plain": [
       "0.10924794318019859"
      ]
     },
     "execution_count": 34,
     "metadata": {},
     "output_type": "execute_result"
    }
   ],
   "source": [
    "#n=3 \n",
    "0.25*(x1*np.exp(-(5+c31)**2/16) + x2*np.exp(-(5+c32)**2/16) + x3*np.exp(-(5+c33)**2/16)  )"
   ]
  },
  {
   "cell_type": "code",
   "execution_count": null,
   "metadata": {},
   "outputs": [],
   "source": []
  },
  {
   "cell_type": "markdown",
   "metadata": {},
   "source": [
    "## In gral"
   ]
  },
  {
   "cell_type": "code",
   "execution_count": 6,
   "metadata": {},
   "outputs": [],
   "source": [
    "from scipy.special.orthogonal import p_roots"
   ]
  },
  {
   "cell_type": "code",
   "execution_count": 10,
   "metadata": {},
   "outputs": [],
   "source": [
    "def gauss1(f,n):\n",
    "    [x,w] = p_roots(n+1)\n",
    "    G=sum(w*f(x))\n",
    "    return G\n",
    "\n",
    "def gauss(f,n,a,b):\n",
    "    #Generalized\n",
    "    [x,w] = p_roots(n+1)\n",
    "    G=0.5*(b-a)*sum(w*f(0.5*(b-a)*x+0.5*(b+a)))\n",
    "    return G"
   ]
  },
  {
   "cell_type": "code",
   "execution_count": 26,
   "metadata": {},
   "outputs": [],
   "source": [
    "def my_f(x):\n",
    "    #return 2*x**2 - 3*x +15 \n",
    "    return 2/np.sqrt(np.pi)*np.exp(-x*x)"
   ]
  },
  {
   "cell_type": "code",
   "execution_count": 12,
   "metadata": {},
   "outputs": [
    {
     "data": {
      "text/plain": [
       "31.33333333333333"
      ]
     },
     "execution_count": 12,
     "metadata": {},
     "output_type": "execute_result"
    }
   ],
   "source": [
    "gauss1(my_f,2) "
   ]
  },
  {
   "cell_type": "code",
   "execution_count": 28,
   "metadata": {},
   "outputs": [
    {
     "data": {
      "text/plain": [
       "0.8427011713162001"
      ]
     },
     "execution_count": 28,
     "metadata": {},
     "output_type": "execute_result"
    }
   ],
   "source": [
    "gauss(my_f, 3, 0, 1.)"
   ]
  },
  {
   "cell_type": "markdown",
   "metadata": {},
   "source": [
    "https://docs.scipy.org/doc/scipy/reference/integrate.html"
   ]
  },
  {
   "cell_type": "markdown",
   "metadata": {},
   "source": [
    "# ODE"
   ]
  },
  {
   "cell_type": "code",
   "execution_count": 35,
   "metadata": {},
   "outputs": [
    {
     "ename": "SyntaxError",
     "evalue": "invalid syntax (<ipython-input-35-b50c3c188b64>, line 1)",
     "output_type": "error",
     "traceback": [
      "\u001b[0;36m  File \u001b[0;32m\"<ipython-input-35-b50c3c188b64>\"\u001b[0;36m, line \u001b[0;32m1\u001b[0m\n\u001b[0;31m    HAcer pendulo\u001b[0m\n\u001b[0m                ^\u001b[0m\n\u001b[0;31mSyntaxError\u001b[0m\u001b[0;31m:\u001b[0m invalid syntax\n"
     ]
    }
   ],
   "source": [
    "HAcer pendulo"
   ]
  },
  {
   "cell_type": "code",
   "execution_count": null,
   "metadata": {},
   "outputs": [],
   "source": []
  }
 ],
 "metadata": {
  "kernelspec": {
   "display_name": "Python 3",
   "language": "python",
   "name": "python3"
  },
  "language_info": {
   "codemirror_mode": {
    "name": "ipython",
    "version": 3
   },
   "file_extension": ".py",
   "mimetype": "text/x-python",
   "name": "python",
   "nbconvert_exporter": "python",
   "pygments_lexer": "ipython3",
   "version": "3.5.2"
  }
 },
 "nbformat": 4,
 "nbformat_minor": 2
}
