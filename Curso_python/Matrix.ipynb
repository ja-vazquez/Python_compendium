{
 "cells": [
  {
   "cell_type": "markdown",
   "metadata": {},
   "source": [
    "# Gauss Elimination "
   ]
  },
  {
   "cell_type": "code",
   "execution_count": 6,
   "metadata": {},
   "outputs": [
    {
     "name": "stdout",
     "output_type": "stream",
     "text": [
      "Enter number of unknowns: 3\n",
      "Enter Augmented Matrix Coefficients:\n",
      "a[0][0]=4\n",
      "a[0][1]=1\n",
      "a[0][2]=2\n",
      "a[0][3]=4\n",
      "a[1][0]=3\n",
      "a[1][1]=5\n",
      "a[1][2]=1\n",
      "a[1][3]=7\n",
      "a[2][0]=1\n",
      "a[2][1]=1\n",
      "a[2][2]=3\n",
      "a[2][3]=3\n",
      "\n",
      "Required solution is: \n",
      "X0 = 0.500\tX1 = 1.000\tX2 = 0.500\t"
     ]
    }
   ],
   "source": [
    "\n",
    "# Importing NumPy Library\n",
    "import numpy as np\n",
    "import sys\n",
    "\n",
    "# Reading number of unknowns\n",
    "n = int(input('Enter number of unknowns: '))\n",
    "\n",
    "# Making numpy array of n x n+1 size and initializing \n",
    "# to zero for storing augmented matrix\n",
    "a = np.zeros((n,n+1))\n",
    "\n",
    "# Making numpy array of n size and initializing \n",
    "# to zero for storing solution vector\n",
    "x = np.zeros(n)\n",
    "\n",
    "# Reading augmented matrix coefficients\n",
    "print('Enter Augmented Matrix Coefficients:')\n",
    "for i in range(n):\n",
    "    for j in range(n+1):\n",
    "        a[i][j] = float(input( 'a['+str(i)+']['+ str(j)+']='))\n",
    "\n",
    "# Applying Gauss Elimination\n",
    "for i in range(n):\n",
    "    if a[i][i] == 0.0:\n",
    "        sys.exit('Divide by zero detected!')\n",
    "        \n",
    "    for j in range(i+1, n):\n",
    "        ratio = a[j][i]/a[i][i]\n",
    "        \n",
    "        for k in range(n+1):\n",
    "            a[j][k] = a[j][k] - ratio * a[i][k]\n",
    "\n",
    "# Back Substitution\n",
    "x[n-1] = a[n-1][n]/a[n-1][n-1]\n",
    "\n",
    "for i in range(n-2,-1,-1):\n",
    "    x[i] = a[i][n]\n",
    "    \n",
    "    for j in range(i+1,n):\n",
    "        x[i] = x[i] - a[i][j]*x[j]\n",
    "    \n",
    "    x[i] = x[i]/a[i][i]\n",
    "\n",
    "# Displaying solution\n",
    "print('\\nRequired solution is: ')\n",
    "for i in range(n):\n",
    "    print('X%d = %0.3f' %(i,x[i]), end = '\\t')\n"
   ]
  },
  {
   "cell_type": "code",
   "execution_count": 8,
   "metadata": {},
   "outputs": [],
   "source": [
    "a = [[4, 1, 2],[3, 5, 1],[1, 1, 3]] \n",
    "b = [4,7,3] \n",
    "#[0.5, 1.0, 0.5]"
   ]
  },
  {
   "cell_type": "code",
   "execution_count": 9,
   "metadata": {},
   "outputs": [
    {
     "data": {
      "text/plain": [
       "array([0.5, 1. , 0.5])"
      ]
     },
     "execution_count": 9,
     "metadata": {},
     "output_type": "execute_result"
    }
   ],
   "source": [
    "np.linalg.solve(a, b)"
   ]
  },
  {
   "cell_type": "code",
   "execution_count": 12,
   "metadata": {},
   "outputs": [
    {
     "data": {
      "text/plain": [
       "array([0.5, 1. , 0.5])"
      ]
     },
     "execution_count": 12,
     "metadata": {},
     "output_type": "execute_result"
    }
   ],
   "source": [
    "#https://docs.scipy.org/doc/scipy/reference/generated/scipy.linalg.solve.html#scipy.linalg.solve\n",
    "from scipy import linalg\n",
    "\n",
    "x = linalg.solve(a, b)\n",
    "x"
   ]
  },
  {
   "cell_type": "markdown",
   "metadata": {},
   "source": [
    "# LU Decomposition "
   ]
  },
  {
   "cell_type": "code",
   "execution_count": 34,
   "metadata": {},
   "outputs": [],
   "source": [
    "# Decompose a matrix into lower and\n",
    "# upper traingular matrix\n",
    "\n",
    "def luDecomposition(mat, n):\n",
    " \n",
    "    lower = [[0 for x in range(n)]\n",
    "             for y in range(n)]\n",
    "    upper = [[0 for x in range(n)]\n",
    "             for y in range(n)]\n",
    " \n",
    "    # Decomposing matrix into Upper\n",
    "    # and Lower triangular matrix\n",
    "    for i in range(n):\n",
    " \n",
    "        # Upper Triangular\n",
    "        for k in range(i, n):\n",
    " \n",
    "            # Summation of L(i, j) * U(j, k)\n",
    "            sum = 0\n",
    "            for j in range(i):\n",
    "                sum += (lower[i][j] * upper[j][k])\n",
    " \n",
    "            # Evaluating U(i, k)\n",
    "            upper[i][k] = mat[i][k] - sum\n",
    " \n",
    "        # Lower Triangular\n",
    "        for k in range(i, n):\n",
    "            if (i == k):\n",
    "                lower[i][i] = 1  # Diagonal as 1\n",
    "            else:\n",
    " \n",
    "                # Summation of L(k, j) * U(j, i)\n",
    "                sum = 0\n",
    "                for j in range(i):\n",
    "                    sum += (lower[k][j] * upper[j][i])\n",
    " \n",
    "                # Evaluating L(k, i)\n",
    "                lower[k][i] = int((mat[k][i] - sum) /\n",
    "                                  upper[i][i])\n",
    " \n",
    "    # setw is for displaying nicely\n",
    "    print(\"Lower Triangular\\t\\tUpper Triangular\")\n",
    " \n",
    "    # Displaying the result :\n",
    "    for i in range(n):\n",
    " \n",
    "        # Lower\n",
    "        for j in range(n):\n",
    "            print(lower[i][j], end=\"\\t\")\n",
    "        print(\"\", end=\"\\t\")\n",
    " \n",
    "        # Upper\n",
    "        for j in range(n):\n",
    "            print(upper[i][j], end=\"\\t\")\n",
    "        print(\"\")\n"
   ]
  },
  {
   "cell_type": "code",
   "execution_count": 35,
   "metadata": {},
   "outputs": [
    {
     "name": "stdout",
     "output_type": "stream",
     "text": [
      "Lower Triangular\t\tUpper Triangular\n",
      "1\t0\t0\t\t2\t-1\t-2\t\n",
      "-2\t1\t0\t\t0\t4\t-1\t\n",
      "-2\t-1\t1\t\t0\t0\t3\t\n"
     ]
    }
   ],
   "source": [
    "mat = [[2, -1, -2],\n",
    "       [-4, 6, 3],\n",
    "       [-4, -2, 8]]\n",
    " \n",
    "luDecomposition(mat, 3)"
   ]
  },
  {
   "cell_type": "code",
   "execution_count": 36,
   "metadata": {},
   "outputs": [
    {
     "name": "stdout",
     "output_type": "stream",
     "text": [
      "Lower Triangular\t\tUpper Triangular\n",
      "1\t0\t0\t0\t\t1\t1\t0\t3\t\n",
      "2\t1\t0\t0\t\t0\t-1\t-2\t-5\t\n",
      "3\t4\t1\t0\t\t0\t0\t7\t13\t\n",
      "-1\t-3\t0\t1\t\t0\t0\t0\t-13\t\n"
     ]
    }
   ],
   "source": [
    "mat = [[1,1,0,3],[2,1,-2,1],[3,-1,-1,2],[-1,2,3,-1]]\n",
    "#mat = [[1, 3, 5], [2, 4, 7], [1, 1, 0]]\n",
    "luDecomposition(mat, 4)"
   ]
  },
  {
   "cell_type": "code",
   "execution_count": null,
   "metadata": {},
   "outputs": [],
   "source": []
  },
  {
   "cell_type": "code",
   "execution_count": 38,
   "metadata": {},
   "outputs": [],
   "source": [
    "# Decompose a matrix using Cholesky \n",
    "# Decomposition\n",
    "import math\n",
    "\n",
    " \n",
    "def Cholesky_Decomposition(matrix, n):\n",
    " \n",
    "    lower = [[0 for x in range(n + 1)] \n",
    "                for y in range(n + 1)];\n",
    " \n",
    "    # Decomposing a matrix\n",
    "    # into Lower Triangular\n",
    "    for i in range(n): \n",
    "        for j in range(i + 1): \n",
    "            sum1 = 0;\n",
    " \n",
    "            # sum1mation for diagnols\n",
    "            if (j == i): \n",
    "                for k in range(j):\n",
    "                    sum1 += pow(lower[j][k], 2);\n",
    "                lower[j][j] = float(math.sqrt(matrix[j][j] - sum1));\n",
    "            else:\n",
    "                 \n",
    "                # Evaluating L(i, j)\n",
    "                # using L(j, j)\n",
    "                for k in range(j):\n",
    "                    sum1 += (lower[i][k] *lower[j][k]);\n",
    "                if(lower[j][j] > 0):\n",
    "                    lower[i][j] = float((matrix[i][j] - sum1) /\n",
    "                                               lower[j][j]);\n",
    " \n",
    "    # Displaying Lower Triangular\n",
    "    # and its Transpose\n",
    "    print(\"Lower Triangular\\t\\tTranspose\");\n",
    "    for i in range(n): \n",
    "         \n",
    "        # Lower Triangular\n",
    "        for j in range(n):\n",
    "            print(lower[i][j], end = \"\\t\");\n",
    "        print(\"\", end = \"\\t\");\n",
    "         \n",
    "        # Transpose of\n",
    "        # Lower Triangular\n",
    "        for j in range(n):\n",
    "            print(lower[j][i], end = \"\\t\");\n",
    "        print(\"\");"
   ]
  },
  {
   "cell_type": "code",
   "execution_count": 23,
   "metadata": {},
   "outputs": [
    {
     "name": "stdout",
     "output_type": "stream",
     "text": [
      "Lower Triangular\t\tTranspose\n",
      "2.0\t0\t0\t\t2.0\t6.0\t-8.0\t\n",
      "6.0\t1.0\t0\t\t0\t1.0\t5.0\t\n",
      "-8.0\t5.0\t3.0\t\t0\t0\t3.0\t\n"
     ]
    }
   ],
   "source": [
    "# Driver Code\n",
    "n = 3;\n",
    "matrix = [[4, 12, -16],\n",
    "          [12, 37, -43],\n",
    "          [-16, -43, 98]];\n",
    "Cholesky_Decomposition(matrix, n);"
   ]
  },
  {
   "cell_type": "code",
   "execution_count": 44,
   "metadata": {},
   "outputs": [
    {
     "name": "stdout",
     "output_type": "stream",
     "text": [
      "Lower Triangular\t\tTranspose\n",
      "2.0\t0\t0\t\t2.0\t-0.5\t0.5\t\n",
      "-0.5\t2.0\t0\t\t0\t2.0\t1.5\t\n",
      "0.5\t1.5\t1.0\t\t0\t0\t1.0\t\n"
     ]
    }
   ],
   "source": [
    "n = 3;\n",
    "matrix = [[4, -1, 1],\n",
    "          [-1, 4.25, 2.75],\n",
    "          [1, 2.75, 3.5]];\n",
    "Cholesky_Decomposition(matrix, n)"
   ]
  },
  {
   "cell_type": "code",
   "execution_count": 41,
   "metadata": {},
   "outputs": [
    {
     "data": {
      "text/plain": [
       "array([[ 2. ,  0. ,  0. ],\n",
       "       [-0.5,  2. ,  0. ],\n",
       "       [ 0.5,  1.5,  1. ]])"
      ]
     },
     "execution_count": 41,
     "metadata": {},
     "output_type": "execute_result"
    }
   ],
   "source": [
    "from scipy.linalg import cholesky\n",
    "\n",
    "L = cholesky(matrix, lower=True)\n",
    "L"
   ]
  },
  {
   "cell_type": "code",
   "execution_count": 52,
   "metadata": {},
   "outputs": [
    {
     "data": {
      "text/plain": [
       "(array([1.+0.j, 2.+0.j, 2.+0.j]),\n",
       " array([[0.00000000e+00, 0.00000000e+00, 4.92672744e-16],\n",
       "        [0.00000000e+00, 5.54700196e-01, 5.54700196e-01],\n",
       "        [1.00000000e+00, 8.32050294e-01, 8.32050294e-01]]))"
      ]
     },
     "execution_count": 52,
     "metadata": {},
     "output_type": "execute_result"
    }
   ],
   "source": [
    "#the eigenvalues are exactly its diagonal entries\n",
    "linalg.eig(L)"
   ]
  },
  {
   "cell_type": "code",
   "execution_count": 48,
   "metadata": {},
   "outputs": [
    {
     "data": {
      "text/plain": [
       "4.0"
      ]
     },
     "execution_count": 48,
     "metadata": {},
     "output_type": "execute_result"
    }
   ],
   "source": [
    "#The determinant equals the product of the diagonal entries\n",
    "linalg.det(L)"
   ]
  },
  {
   "cell_type": "code",
   "execution_count": 66,
   "metadata": {},
   "outputs": [],
   "source": [
    "# Log det\n",
    "\n",
    "matrix = np.array([[4, -1, 1],\n",
    "          [-1, 4.25, 2.75],\n",
    "          [1, 2.75, 3.5]])"
   ]
  },
  {
   "cell_type": "code",
   "execution_count": 60,
   "metadata": {},
   "outputs": [],
   "source": [
    "import scipy as sp"
   ]
  },
  {
   "cell_type": "code",
   "execution_count": 88,
   "metadata": {},
   "outputs": [
    {
     "data": {
      "text/plain": [
       "2.772588722239781"
      ]
     },
     "execution_count": 88,
     "metadata": {},
     "output_type": "execute_result"
    }
   ],
   "source": [
    "np.log(linalg.det(matrix))\n",
    "#%timeit np.log(linalg.det(matrix))"
   ]
  },
  {
   "cell_type": "code",
   "execution_count": 86,
   "metadata": {},
   "outputs": [
    {
     "data": {
      "text/plain": [
       "2.772588722239781"
      ]
     },
     "execution_count": 86,
     "metadata": {},
     "output_type": "execute_result"
    }
   ],
   "source": [
    "np.log(cholesky(matrix).diagonal()).sum()*2.0\n",
    "#%timeit np.log(cholesky(matrix).diagonal()).sum()*2.0"
   ]
  },
  {
   "cell_type": "code",
   "execution_count": null,
   "metadata": {},
   "outputs": [],
   "source": []
  },
  {
   "cell_type": "markdown",
   "metadata": {},
   "source": [
    "# Gauss Seidel"
   ]
  },
  {
   "cell_type": "code",
   "execution_count": 3,
   "metadata": {},
   "outputs": [],
   "source": [
    "# Defining our function as seidel which takes 3 arguments \n",
    "# as A matrix, Solution and B matrix \n",
    "   \n",
    "def seidel(a, x ,b): \n",
    "    #Finding length of a(3)        \n",
    "    n = len(a)                    \n",
    "    # for loop for 3 times as to calculate x, y , z \n",
    "    for j in range(0, n):         \n",
    "        # temp variable d to store b[j] \n",
    "        d = b[j]                   \n",
    "          \n",
    "        # to calculate respective xi, yi, zi \n",
    "        for i in range(0, n):      \n",
    "            if(j != i): \n",
    "                d-=a[j][i] * x[i] \n",
    "        # updating the value of our solution         \n",
    "        x[j] = d / a[j][j] \n",
    "    # returning our updated solution            \n",
    "    return x     "
   ]
  },
  {
   "cell_type": "code",
   "execution_count": 7,
   "metadata": {},
   "outputs": [
    {
     "name": "stdout",
     "output_type": "stream",
     "text": [
      "[0, 0, 0]\n",
      "[1.0, 0.8, 0.39999999999999997]\n",
      "[0.6000000000000001, 0.9599999999999997, 0.48000000000000004]\n",
      "[0.52, 0.9919999999999998, 0.49600000000000005]\n",
      "[0.504, 0.9983999999999998, 0.4992000000000001]\n",
      "[0.5008, 0.99968, 0.49984]\n",
      "[0.5001599999999999, 0.9999360000000002, 0.4999679999999999]\n",
      "[0.500032, 0.9999872, 0.4999936]\n",
      "[0.5000064, 0.9999974400000001, 0.49999871999999995]\n",
      "[0.50000128, 0.999999488, 0.4999997439999999]\n",
      "[0.500000256, 0.9999998976000001, 0.49999994880000004]\n"
     ]
    }
   ],
   "source": [
    "# int(input())input as number of variable to be solved                 \n",
    "n = 3                              \n",
    "a = []                             \n",
    "b = []         \n",
    "# initial solution depending on n(here n=3)                      \n",
    "x = [0, 0, 0]                         \n",
    "a = [[4, 1, 2],[3, 5, 1],[1, 1, 3]] \n",
    "b = [4,7,3] \n",
    "print(x) \n",
    "  \n",
    "#loop run for m times depending on m the error value \n",
    "for i in range(0, 10):             \n",
    "    x = seidel(a, x, b) \n",
    "    #print each time the updated solution \n",
    "    print(x) "
   ]
  },
  {
   "cell_type": "markdown",
   "metadata": {},
   "source": [
    "https://en.wikipedia.org/wiki/List_of_numerical_analysis_topics#Eigenvalue_algorithms"
   ]
  },
  {
   "cell_type": "code",
   "execution_count": null,
   "metadata": {},
   "outputs": [],
   "source": []
  }
 ],
 "metadata": {
  "kernelspec": {
   "display_name": "Python 3",
   "language": "python",
   "name": "python3"
  },
  "language_info": {
   "codemirror_mode": {
    "name": "ipython",
    "version": 3
   },
   "file_extension": ".py",
   "mimetype": "text/x-python",
   "name": "python",
   "nbconvert_exporter": "python",
   "pygments_lexer": "ipython3",
   "version": "3.5.2"
  }
 },
 "nbformat": 4,
 "nbformat_minor": 2
}
