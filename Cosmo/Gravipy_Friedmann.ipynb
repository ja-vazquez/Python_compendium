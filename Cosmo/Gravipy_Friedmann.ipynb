{
 "cells": [
  {
   "cell_type": "code",
   "execution_count": 1,
   "id": "5f46c390",
   "metadata": {},
   "outputs": [],
   "source": [
    "import numpy as np\n",
    "from sympy import *    \n",
    "from gravipy import *  \n",
    "from gravipy.tensorial import *\n",
    "from IPython.display import display, Math\n",
    "from sympy import latex\n"
   ]
  },
  {
   "cell_type": "markdown",
   "id": "216c1156",
   "metadata": {},
   "source": [
    "#  <font color=purple>__Métrica de FLRW__: </font>\n",
    "\n",
    "### En este caso se muestra la solución para la métrica:\n",
    "\n",
    "### $ds^2 = g_{\\mu \\nu}dx^\\mu dx^\\nu = -dt^2 + R^2(t) \\left(\\dfrac{d \\chi^2}{1- k r^2} + r^2 d \\theta^2 + r^2 sin^2 \\theta  d \\phi^2 \\right)$ "
   ]
  },
  {
   "cell_type": "code",
   "execution_count": 2,
   "id": "ebf6718e",
   "metadata": {},
   "outputs": [],
   "source": [
    "t, r, theta, phi, k, Lambda, GN = symbols('t, r, \\\\theta, \\phi, k, \\Lambda, G_N') #Define los símbolos\n",
    "\n",
    "R = Function('R')\n",
    "\n",
    "chi = Coordinates('\\chi', [t, r, theta, phi])  #Crea el 4-Vector  \n",
    "u = Coordinates('u', [1,0,0,0])   # 4-Velocidad para un observador en reposo\n",
    "\n",
    "Metric = diag(-1, R(t)**2 / (1 - k*r**2), R(t)**2 * r ** 2, R(t)**2 * r ** 2 * sin(theta) ** 2) # Define la métrica\n",
    "\n",
    "\n",
    "g = MetricTensor('g', chi, Metric)  #Los índices corren de 1,2,3,4.\n"
   ]
  },
  {
   "cell_type": "code",
   "execution_count": 3,
   "id": "5cfccc8e",
   "metadata": {},
   "outputs": [
    {
     "data": {
      "text/latex": [
       "$\\displaystyle \\left[\\begin{matrix}-1 & 0 & 0 & 0\\\\0 & \\frac{- k r^{2} + 1}{R^{2}{\\left(t \\right)}} & 0 & 0\\\\0 & 0 & \\frac{1}{r^{2} R^{2}{\\left(t \\right)}} & 0\\\\0 & 0 & 0 & \\frac{1}{r^{2} R^{2}{\\left(t \\right)} \\sin^{2}{\\left(\\theta \\right)}}\\end{matrix}\\right]$"
      ],
      "text/plain": [
       "Matrix([\n",
       "[-1,                     0,                0,                               0],\n",
       "[ 0, (-k*r**2 + 1)/R(t)**2,                0,                               0],\n",
       "[ 0,                     0, 1/(r**2*R(t)**2),                               0],\n",
       "[ 0,                     0,                0, 1/(r**2*R(t)**2*sin(\\theta)**2)]])"
      ]
     },
     "execution_count": 3,
     "metadata": {},
     "output_type": "execute_result"
    }
   ],
   "source": [
    "g(-All, -All) #g^(\\mu \\nu)\n",
    "#chi.components "
   ]
  },
  {
   "cell_type": "code",
   "execution_count": 4,
   "id": "0e554534",
   "metadata": {},
   "outputs": [
    {
     "data": {
      "text/plain": [
       "{(-1,): 1, (-2,): 0, (-3,): 0, (-4,): 0}"
      ]
     },
     "execution_count": 4,
     "metadata": {},
     "output_type": "execute_result"
    }
   ],
   "source": [
    "#chi.partial_derivative_components\n",
    "u.components"
   ]
  },
  {
   "cell_type": "code",
   "execution_count": 5,
   "id": "37bfb163",
   "metadata": {},
   "outputs": [
    {
     "data": {
      "text/latex": [
       "$\\displaystyle \\left[\\begin{matrix}-1 & 0 & 0 & 0\\\\0 & \\frac{R^{2}{\\left(t \\right)}}{- k r^{2} + 1} & 0 & 0\\\\0 & 0 & r^{2} R^{2}{\\left(t \\right)} & 0\\\\0 & 0 & 0 & r^{2} R^{2}{\\left(t \\right)} \\sin^{2}{\\left(\\theta \\right)}\\end{matrix}\\right]$"
      ],
      "text/plain": [
       "Matrix([\n",
       "[-1,                     0,            0,                           0],\n",
       "[ 0, R(t)**2/(-k*r**2 + 1),            0,                           0],\n",
       "[ 0,                     0, r**2*R(t)**2,                           0],\n",
       "[ 0,                     0,            0, r**2*R(t)**2*sin(\\theta)**2]])"
      ]
     },
     "execution_count": 5,
     "metadata": {},
     "output_type": "execute_result"
    }
   ],
   "source": [
    "g(All, All)"
   ]
  },
  {
   "cell_type": "code",
   "execution_count": 6,
   "id": "59a60e47",
   "metadata": {},
   "outputs": [
    {
     "data": {
      "text/latex": [
       "$\\displaystyle \\left[\\begin{matrix}\\left[\\begin{matrix}0 & 0 & 0 & 0\\\\0 & - \\frac{R{\\left(t \\right)} \\frac{d}{d t} R{\\left(t \\right)}}{k r^{2} - 1} & 0 & 0\\\\0 & 0 & r^{2} R{\\left(t \\right)} \\frac{d}{d t} R{\\left(t \\right)} & 0\\\\0 & 0 & 0 & r^{2} R{\\left(t \\right)} \\sin^{2}{\\left(\\theta \\right)} \\frac{d}{d t} R{\\left(t \\right)}\\end{matrix}\\right] & \\left[\\begin{matrix}0 & - \\frac{\\left(- k r^{2} + 1\\right) \\frac{d}{d t} R{\\left(t \\right)}}{\\left(k r^{2} - 1\\right) R{\\left(t \\right)}} & 0 & 0\\\\- \\frac{\\left(- k r^{2} + 1\\right) \\frac{d}{d t} R{\\left(t \\right)}}{\\left(k r^{2} - 1\\right) R{\\left(t \\right)}} & \\frac{k r \\left(- k r^{2} + 1\\right)}{\\left(k r^{2} - 1\\right)^{2}} & 0 & 0\\\\0 & 0 & - r \\left(- k r^{2} + 1\\right) & 0\\\\0 & 0 & 0 & - r \\left(- k r^{2} + 1\\right) \\sin^{2}{\\left(\\theta \\right)}\\end{matrix}\\right] & \\left[\\begin{matrix}0 & 0 & \\frac{\\frac{d}{d t} R{\\left(t \\right)}}{R{\\left(t \\right)}} & 0\\\\0 & 0 & \\frac{1}{r} & 0\\\\\\frac{\\frac{d}{d t} R{\\left(t \\right)}}{R{\\left(t \\right)}} & \\frac{1}{r} & 0 & 0\\\\0 & 0 & 0 & - \\frac{\\sin{\\left(2 \\theta \\right)}}{2}\\end{matrix}\\right] & \\left[\\begin{matrix}0 & 0 & 0 & \\frac{\\frac{d}{d t} R{\\left(t \\right)}}{R{\\left(t \\right)}}\\\\0 & 0 & 0 & \\frac{1}{r}\\\\0 & 0 & 0 & \\frac{\\sin{\\left(2 \\theta \\right)}}{2 \\sin^{2}{\\left(\\theta \\right)}}\\\\\\frac{\\frac{d}{d t} R{\\left(t \\right)}}{R{\\left(t \\right)}} & \\frac{1}{r} & \\frac{\\sin{\\left(2 \\theta \\right)}}{2 \\sin^{2}{\\left(\\theta \\right)}} & 0\\end{matrix}\\right]\\end{matrix}\\right]$"
      ],
      "text/plain": [
       "Matrix([[Matrix([\n",
       "[0,                                      0,                             0,                                            0],\n",
       "[0, -R(t)*Derivative(R(t), t)/(k*r**2 - 1),                             0,                                            0],\n",
       "[0,                                      0, r**2*R(t)*Derivative(R(t), t),                                            0],\n",
       "[0,                                      0,                             0, r**2*R(t)*sin(\\theta)**2*Derivative(R(t), t)]]), Matrix([\n",
       "[                                                     0, -(-k*r**2 + 1)*Derivative(R(t), t)/((k*r**2 - 1)*R(t)),                0,                               0],\n",
       "[-(-k*r**2 + 1)*Derivative(R(t), t)/((k*r**2 - 1)*R(t)),                      k*r*(-k*r**2 + 1)/(k*r**2 - 1)**2,                0,                               0],\n",
       "[                                                     0,                                                      0, -r*(-k*r**2 + 1),                               0],\n",
       "[                                                     0,                                                      0,                0, -r*(-k*r**2 + 1)*sin(\\theta)**2]]), Matrix([\n",
       "[                       0,   0, Derivative(R(t), t)/R(t),                0],\n",
       "[                       0,   0,                      1/r,                0],\n",
       "[Derivative(R(t), t)/R(t), 1/r,                        0,                0],\n",
       "[                       0,   0,                        0, -sin(2*\\theta)/2]]), Matrix([\n",
       "[                       0,   0,                                0,         Derivative(R(t), t)/R(t)],\n",
       "[                       0,   0,                                0,                              1/r],\n",
       "[                       0,   0,                                0, sin(2*\\theta)/(2*sin(\\theta)**2)],\n",
       "[Derivative(R(t), t)/R(t), 1/r, sin(2*\\theta)/(2*sin(\\theta)**2),                                0]])]])"
      ]
     },
     "execution_count": 6,
     "metadata": {},
     "output_type": "execute_result"
    }
   ],
   "source": [
    "Ga = Christoffel('Ga', g) # Símbolos de Christofell\n",
    "Ga(-All, All, All)    # \\Gamma^\\mu_(\\nu \\sigma)\n",
    "#Ga.components"
   ]
  },
  {
   "cell_type": "code",
   "execution_count": 7,
   "id": "f244bc95",
   "metadata": {},
   "outputs": [
    {
     "data": {
      "text/latex": [
       "$\\displaystyle \\left[\\begin{matrix}\\left[\\begin{matrix}0 & 0 & 0 & 0\\\\0 & 0 & 0 & 0\\\\0 & 0 & 0 & 0\\\\0 & 0 & 0 & 0\\end{matrix}\\right] & \\left[\\begin{matrix}0 & - \\frac{R{\\left(t \\right)} \\frac{d^{2}}{d t^{2}} R{\\left(t \\right)}}{k r^{2} - 1} & 0 & 0\\\\\\frac{R{\\left(t \\right)} \\frac{d^{2}}{d t^{2}} R{\\left(t \\right)}}{k r^{2} - 1} & 0 & 0 & 0\\\\0 & 0 & 0 & 0\\\\0 & 0 & 0 & 0\\end{matrix}\\right] & \\left[\\begin{matrix}0 & 0 & r^{2} R{\\left(t \\right)} \\frac{d^{2}}{d t^{2}} R{\\left(t \\right)} & 0\\\\0 & 0 & 0 & 0\\\\- r^{2} R{\\left(t \\right)} \\frac{d^{2}}{d t^{2}} R{\\left(t \\right)} & 0 & 0 & 0\\\\0 & 0 & 0 & 0\\end{matrix}\\right] & \\left[\\begin{matrix}0 & 0 & 0 & r^{2} R{\\left(t \\right)} \\sin^{2}{\\left(\\theta \\right)} \\frac{d^{2}}{d t^{2}} R{\\left(t \\right)}\\\\0 & 0 & 0 & 0\\\\0 & 0 & 0 & 0\\\\- r^{2} R{\\left(t \\right)} \\sin^{2}{\\left(\\theta \\right)} \\frac{d^{2}}{d t^{2}} R{\\left(t \\right)} & 0 & 0 & 0\\end{matrix}\\right]\\\\\\left[\\begin{matrix}0 & - \\frac{\\left(- k r^{2} + 1\\right) \\frac{d^{2}}{d t^{2}} R{\\left(t \\right)}}{\\left(k r^{2} - 1\\right) R{\\left(t \\right)}} & 0 & 0\\\\\\frac{\\left(- k r^{2} + 1\\right) \\frac{d^{2}}{d t^{2}} R{\\left(t \\right)}}{\\left(k r^{2} - 1\\right) R{\\left(t \\right)}} & 0 & 0 & 0\\\\0 & 0 & 0 & 0\\\\0 & 0 & 0 & 0\\end{matrix}\\right] & \\left[\\begin{matrix}0 & 0 & 0 & 0\\\\0 & 0 & 0 & 0\\\\0 & 0 & 0 & 0\\\\0 & 0 & 0 & 0\\end{matrix}\\right] & \\left[\\begin{matrix}0 & 0 & 0 & 0\\\\0 & 0 & - \\frac{r^{2} \\left(k + \\left(\\frac{d}{d t} R{\\left(t \\right)}\\right)^{2}\\right) \\left(- k r^{2} + 1\\right)}{k r^{2} - 1} & 0\\\\0 & \\frac{r^{2} \\left(k + \\left(\\frac{d}{d t} R{\\left(t \\right)}\\right)^{2}\\right) \\left(- k r^{2} + 1\\right)}{k r^{2} - 1} & 0 & 0\\\\0 & 0 & 0 & 0\\end{matrix}\\right] & \\left[\\begin{matrix}0 & 0 & 0 & 0\\\\0 & 0 & 0 & - \\frac{r^{2} \\left(k + \\left(\\frac{d}{d t} R{\\left(t \\right)}\\right)^{2}\\right) \\left(- k r^{2} + 1\\right) \\sin^{2}{\\left(\\theta \\right)}}{k r^{2} - 1}\\\\0 & 0 & 0 & 0\\\\0 & \\frac{r^{2} \\left(k + \\left(\\frac{d}{d t} R{\\left(t \\right)}\\right)^{2}\\right) \\left(- k r^{2} + 1\\right) \\sin^{2}{\\left(\\theta \\right)}}{k r^{2} - 1} & 0 & 0\\end{matrix}\\right]\\\\\\left[\\begin{matrix}0 & 0 & \\frac{\\frac{d^{2}}{d t^{2}} R{\\left(t \\right)}}{R{\\left(t \\right)}} & 0\\\\0 & 0 & 0 & 0\\\\- \\frac{\\frac{d^{2}}{d t^{2}} R{\\left(t \\right)}}{R{\\left(t \\right)}} & 0 & 0 & 0\\\\0 & 0 & 0 & 0\\end{matrix}\\right] & \\left[\\begin{matrix}0 & 0 & 0 & 0\\\\0 & 0 & \\frac{k + \\left(\\frac{d}{d t} R{\\left(t \\right)}\\right)^{2}}{k r^{2} - 1} & 0\\\\0 & - \\frac{k + \\left(\\frac{d}{d t} R{\\left(t \\right)}\\right)^{2}}{k r^{2} - 1} & 0 & 0\\\\0 & 0 & 0 & 0\\end{matrix}\\right] & \\left[\\begin{matrix}0 & 0 & 0 & 0\\\\0 & 0 & 0 & 0\\\\0 & 0 & 0 & 0\\\\0 & 0 & 0 & 0\\end{matrix}\\right] & \\left[\\begin{matrix}0 & 0 & 0 & 0\\\\0 & 0 & 0 & 0\\\\0 & 0 & 0 & r^{2} \\left(k + \\left(\\frac{d}{d t} R{\\left(t \\right)}\\right)^{2}\\right) \\sin^{2}{\\left(\\theta \\right)}\\\\0 & 0 & - r^{2} \\left(k + \\left(\\frac{d}{d t} R{\\left(t \\right)}\\right)^{2}\\right) \\sin^{2}{\\left(\\theta \\right)} & 0\\end{matrix}\\right]\\\\\\left[\\begin{matrix}0 & 0 & 0 & \\frac{\\frac{d^{2}}{d t^{2}} R{\\left(t \\right)}}{R{\\left(t \\right)}}\\\\0 & 0 & 0 & 0\\\\0 & 0 & 0 & 0\\\\- \\frac{\\frac{d^{2}}{d t^{2}} R{\\left(t \\right)}}{R{\\left(t \\right)}} & 0 & 0 & 0\\end{matrix}\\right] & \\left[\\begin{matrix}0 & 0 & 0 & 0\\\\0 & 0 & 0 & \\frac{k + \\left(\\frac{d}{d t} R{\\left(t \\right)}\\right)^{2}}{k r^{2} - 1}\\\\0 & 0 & 0 & 0\\\\0 & - \\frac{k + \\left(\\frac{d}{d t} R{\\left(t \\right)}\\right)^{2}}{k r^{2} - 1} & 0 & 0\\end{matrix}\\right] & \\left[\\begin{matrix}0 & 0 & 0 & 0\\\\0 & 0 & 0 & 0\\\\0 & 0 & 0 & - r^{2} \\left(k + \\left(\\frac{d}{d t} R{\\left(t \\right)}\\right)^{2}\\right)\\\\0 & 0 & r^{2} \\left(k + \\left(\\frac{d}{d t} R{\\left(t \\right)}\\right)^{2}\\right) & 0\\end{matrix}\\right] & \\left[\\begin{matrix}0 & 0 & 0 & 0\\\\0 & 0 & 0 & 0\\\\0 & 0 & 0 & 0\\\\0 & 0 & 0 & 0\\end{matrix}\\right]\\end{matrix}\\right]$"
      ],
      "text/plain": [
       "Matrix([\n",
       "[                                                                                                                                                                                                                                                                                                                                                                                                                                                                            Matrix([\n",
       "[0, 0, 0, 0],\n",
       "[0, 0, 0, 0],\n",
       "[0, 0, 0, 0],\n",
       "[0, 0, 0, 0]]), Matrix([\n",
       "[                                         0, -R(t)*Derivative(R(t), (t, 2))/(k*r**2 - 1), 0, 0],\n",
       "[R(t)*Derivative(R(t), (t, 2))/(k*r**2 - 1),                                           0, 0, 0],\n",
       "[                                         0,                                           0, 0, 0],\n",
       "[                                         0,                                           0, 0, 0]]),                                                                                                                                                                                                                 Matrix([\n",
       "[                                  0, 0, r**2*R(t)*Derivative(R(t), (t, 2)), 0],\n",
       "[                                  0, 0,                                  0, 0],\n",
       "[-r**2*R(t)*Derivative(R(t), (t, 2)), 0,                                  0, 0],\n",
       "[                                  0, 0,                                  0, 0]]),                                                                                                                                                                                                                 Matrix([\n",
       "[                                                 0, 0, 0, r**2*R(t)*sin(\\theta)**2*Derivative(R(t), (t, 2))],\n",
       "[                                                 0, 0, 0,                                                 0],\n",
       "[                                                 0, 0, 0,                                                 0],\n",
       "[-r**2*R(t)*sin(\\theta)**2*Derivative(R(t), (t, 2)), 0, 0,                                                 0]])],\n",
       "[Matrix([\n",
       "[                                                         0, -(-k*r**2 + 1)*Derivative(R(t), (t, 2))/((k*r**2 - 1)*R(t)), 0, 0],\n",
       "[(-k*r**2 + 1)*Derivative(R(t), (t, 2))/((k*r**2 - 1)*R(t)),                                                           0, 0, 0],\n",
       "[                                                         0,                                                           0, 0, 0],\n",
       "[                                                         0,                                                           0, 0, 0]]),                                                                                                                                                                                                                                                                                                                                             Matrix([\n",
       "[0, 0, 0, 0],\n",
       "[0, 0, 0, 0],\n",
       "[0, 0, 0, 0],\n",
       "[0, 0, 0, 0]]), Matrix([\n",
       "[0,                                                            0,                                                             0, 0],\n",
       "[0,                                                            0, -r**2*(k + Derivative(R(t), t)**2)*(-k*r**2 + 1)/(k*r**2 - 1), 0],\n",
       "[0, r**2*(k + Derivative(R(t), t)**2)*(-k*r**2 + 1)/(k*r**2 - 1),                                                             0, 0],\n",
       "[0,                                                            0,                                                             0, 0]]), Matrix([\n",
       "[0,                                                                           0, 0,                                                                            0],\n",
       "[0,                                                                           0, 0, -r**2*(k + Derivative(R(t), t)**2)*(-k*r**2 + 1)*sin(\\theta)**2/(k*r**2 - 1)],\n",
       "[0,                                                                           0, 0,                                                                            0],\n",
       "[0, r**2*(k + Derivative(R(t), t)**2)*(-k*r**2 + 1)*sin(\\theta)**2/(k*r**2 - 1), 0,                                                                            0]])],\n",
       "[                                                                                                                                                                                                                                        Matrix([\n",
       "[                             0, 0, Derivative(R(t), (t, 2))/R(t), 0],\n",
       "[                             0, 0,                             0, 0],\n",
       "[-Derivative(R(t), (t, 2))/R(t), 0,                             0, 0],\n",
       "[                             0, 0,                             0, 0]]),         Matrix([\n",
       "[0,                                          0,                                         0, 0],\n",
       "[0,                                          0, (k + Derivative(R(t), t)**2)/(k*r**2 - 1), 0],\n",
       "[0, -(k + Derivative(R(t), t)**2)/(k*r**2 - 1),                                         0, 0],\n",
       "[0,                                          0,                                         0, 0]]),                                                                                                                                                                                                                                                                                                                                                                                                                                                                                             Matrix([\n",
       "[0, 0, 0, 0],\n",
       "[0, 0, 0, 0],\n",
       "[0, 0, 0, 0],\n",
       "[0, 0, 0, 0]]),                                                                                                                                                                                                                         Matrix([\n",
       "[0, 0,                                                 0,                                                0],\n",
       "[0, 0,                                                 0,                                                0],\n",
       "[0, 0,                                                 0, r**2*(k + Derivative(R(t), t)**2)*sin(\\theta)**2],\n",
       "[0, 0, -r**2*(k + Derivative(R(t), t)**2)*sin(\\theta)**2,                                                0]])],\n",
       "[                                                                                                                                                                                                                                        Matrix([\n",
       "[                             0, 0, 0, Derivative(R(t), (t, 2))/R(t)],\n",
       "[                             0, 0, 0,                             0],\n",
       "[                             0, 0, 0,                             0],\n",
       "[-Derivative(R(t), (t, 2))/R(t), 0, 0,                             0]]),         Matrix([\n",
       "[0,                                          0, 0,                                         0],\n",
       "[0,                                          0, 0, (k + Derivative(R(t), t)**2)/(k*r**2 - 1)],\n",
       "[0,                                          0, 0,                                         0],\n",
       "[0, -(k + Derivative(R(t), t)**2)/(k*r**2 - 1), 0,                                         0]]),                                                                                                                                                                                                                         Matrix([\n",
       "[0, 0,                                 0,                                  0],\n",
       "[0, 0,                                 0,                                  0],\n",
       "[0, 0,                                 0, -r**2*(k + Derivative(R(t), t)**2)],\n",
       "[0, 0, r**2*(k + Derivative(R(t), t)**2),                                  0]]),                                                                                                                                                                                                                                                                                                                                                                                                                                                                                                                                                                                                                     Matrix([\n",
       "[0, 0, 0, 0],\n",
       "[0, 0, 0, 0],\n",
       "[0, 0, 0, 0],\n",
       "[0, 0, 0, 0]])]])"
      ]
     },
     "execution_count": 7,
     "metadata": {},
     "output_type": "execute_result"
    }
   ],
   "source": [
    "Rm = Riemann('Rm', g)\n",
    "Rm(-All,All,All,All)"
   ]
  },
  {
   "cell_type": "code",
   "execution_count": 8,
   "id": "c0838dab",
   "metadata": {},
   "outputs": [
    {
     "data": {
      "text/latex": [
       "$\\displaystyle \\left[\\begin{matrix}\\left[\\begin{matrix}0 & 0 & 0 & 0\\\\0 & 0 & 0 & 0\\\\0 & 0 & 0 & 0\\\\0 & 0 & 0 & 0\\end{matrix}\\right] & \\left[\\begin{matrix}0 & - \\frac{R{\\left(t \\right)} \\frac{d^{2}}{d t^{2}} R{\\left(t \\right)}}{k r^{2} - 1} & 0 & 0\\\\- \\frac{\\left(- k r^{2} + 1\\right) \\frac{d^{2}}{d t^{2}} R{\\left(t \\right)}}{\\left(k r^{2} - 1\\right) R{\\left(t \\right)}} & 0 & 0 & 0\\\\0 & 0 & 0 & 0\\\\0 & 0 & 0 & 0\\end{matrix}\\right] & \\left[\\begin{matrix}0 & 0 & r^{2} R{\\left(t \\right)} \\frac{d^{2}}{d t^{2}} R{\\left(t \\right)} & 0\\\\0 & 0 & 0 & 0\\\\\\frac{\\frac{d^{2}}{d t^{2}} R{\\left(t \\right)}}{R{\\left(t \\right)}} & 0 & 0 & 0\\\\0 & 0 & 0 & 0\\end{matrix}\\right] & \\left[\\begin{matrix}0 & 0 & 0 & r^{2} R{\\left(t \\right)} \\sin^{2}{\\left(\\theta \\right)} \\frac{d^{2}}{d t^{2}} R{\\left(t \\right)}\\\\0 & 0 & 0 & 0\\\\0 & 0 & 0 & 0\\\\\\frac{\\frac{d^{2}}{d t^{2}} R{\\left(t \\right)}}{R{\\left(t \\right)}} & 0 & 0 & 0\\end{matrix}\\right]\\\\\\left[\\begin{matrix}0 & \\frac{R{\\left(t \\right)} \\frac{d^{2}}{d t^{2}} R{\\left(t \\right)}}{k r^{2} - 1} & 0 & 0\\\\\\frac{\\left(- k r^{2} + 1\\right) \\frac{d^{2}}{d t^{2}} R{\\left(t \\right)}}{\\left(k r^{2} - 1\\right) R{\\left(t \\right)}} & 0 & 0 & 0\\\\0 & 0 & 0 & 0\\\\0 & 0 & 0 & 0\\end{matrix}\\right] & \\left[\\begin{matrix}0 & 0 & 0 & 0\\\\0 & 0 & 0 & 0\\\\0 & 0 & 0 & 0\\\\0 & 0 & 0 & 0\\end{matrix}\\right] & \\left[\\begin{matrix}0 & 0 & 0 & 0\\\\0 & 0 & - \\frac{r^{2} \\left(k + \\left(\\frac{d}{d t} R{\\left(t \\right)}\\right)^{2}\\right) \\left(- k r^{2} + 1\\right)}{k r^{2} - 1} & 0\\\\0 & \\frac{k + \\left(\\frac{d}{d t} R{\\left(t \\right)}\\right)^{2}}{k r^{2} - 1} & 0 & 0\\\\0 & 0 & 0 & 0\\end{matrix}\\right] & \\left[\\begin{matrix}0 & 0 & 0 & 0\\\\0 & 0 & 0 & - \\frac{r^{2} \\left(k + \\left(\\frac{d}{d t} R{\\left(t \\right)}\\right)^{2}\\right) \\left(- k r^{2} + 1\\right) \\sin^{2}{\\left(\\theta \\right)}}{k r^{2} - 1}\\\\0 & 0 & 0 & 0\\\\0 & \\frac{k + \\left(\\frac{d}{d t} R{\\left(t \\right)}\\right)^{2}}{k r^{2} - 1} & 0 & 0\\end{matrix}\\right]\\\\\\left[\\begin{matrix}0 & 0 & - r^{2} R{\\left(t \\right)} \\frac{d^{2}}{d t^{2}} R{\\left(t \\right)} & 0\\\\0 & 0 & 0 & 0\\\\- \\frac{\\frac{d^{2}}{d t^{2}} R{\\left(t \\right)}}{R{\\left(t \\right)}} & 0 & 0 & 0\\\\0 & 0 & 0 & 0\\end{matrix}\\right] & \\left[\\begin{matrix}0 & 0 & 0 & 0\\\\0 & 0 & \\frac{r^{2} \\left(k + \\left(\\frac{d}{d t} R{\\left(t \\right)}\\right)^{2}\\right) \\left(- k r^{2} + 1\\right)}{k r^{2} - 1} & 0\\\\0 & - \\frac{k + \\left(\\frac{d}{d t} R{\\left(t \\right)}\\right)^{2}}{k r^{2} - 1} & 0 & 0\\\\0 & 0 & 0 & 0\\end{matrix}\\right] & \\left[\\begin{matrix}0 & 0 & 0 & 0\\\\0 & 0 & 0 & 0\\\\0 & 0 & 0 & 0\\\\0 & 0 & 0 & 0\\end{matrix}\\right] & \\left[\\begin{matrix}0 & 0 & 0 & 0\\\\0 & 0 & 0 & 0\\\\0 & 0 & 0 & r^{2} \\left(k + \\left(\\frac{d}{d t} R{\\left(t \\right)}\\right)^{2}\\right) \\sin^{2}{\\left(\\theta \\right)}\\\\0 & 0 & - r^{2} \\left(k + \\left(\\frac{d}{d t} R{\\left(t \\right)}\\right)^{2}\\right) & 0\\end{matrix}\\right]\\\\\\left[\\begin{matrix}0 & 0 & 0 & - r^{2} R{\\left(t \\right)} \\sin^{2}{\\left(\\theta \\right)} \\frac{d^{2}}{d t^{2}} R{\\left(t \\right)}\\\\0 & 0 & 0 & 0\\\\0 & 0 & 0 & 0\\\\- \\frac{\\frac{d^{2}}{d t^{2}} R{\\left(t \\right)}}{R{\\left(t \\right)}} & 0 & 0 & 0\\end{matrix}\\right] & \\left[\\begin{matrix}0 & 0 & 0 & 0\\\\0 & 0 & 0 & \\frac{r^{2} \\left(k + \\left(\\frac{d}{d t} R{\\left(t \\right)}\\right)^{2}\\right) \\left(- k r^{2} + 1\\right) \\sin^{2}{\\left(\\theta \\right)}}{k r^{2} - 1}\\\\0 & 0 & 0 & 0\\\\0 & - \\frac{k + \\left(\\frac{d}{d t} R{\\left(t \\right)}\\right)^{2}}{k r^{2} - 1} & 0 & 0\\end{matrix}\\right] & \\left[\\begin{matrix}0 & 0 & 0 & 0\\\\0 & 0 & 0 & 0\\\\0 & 0 & 0 & - r^{2} \\left(k + \\left(\\frac{d}{d t} R{\\left(t \\right)}\\right)^{2}\\right) \\sin^{2}{\\left(\\theta \\right)}\\\\0 & 0 & r^{2} \\left(k + \\left(\\frac{d}{d t} R{\\left(t \\right)}\\right)^{2}\\right) & 0\\end{matrix}\\right] & \\left[\\begin{matrix}0 & 0 & 0 & 0\\\\0 & 0 & 0 & 0\\\\0 & 0 & 0 & 0\\\\0 & 0 & 0 & 0\\end{matrix}\\right]\\end{matrix}\\right]$"
      ],
      "text/plain": [
       "Matrix([\n",
       "[                                                                                                                                                                                                                                                                                                                                                                                                        Matrix([\n",
       "[0, 0, 0, 0],\n",
       "[0, 0, 0, 0],\n",
       "[0, 0, 0, 0],\n",
       "[0, 0, 0, 0]]),                                                             Matrix([\n",
       "[                                                          0, -R(t)*Derivative(R(t), (t, 2))/(k*r**2 - 1), 0, 0],\n",
       "[-(-k*r**2 + 1)*Derivative(R(t), (t, 2))/((k*r**2 - 1)*R(t)),                                           0, 0, 0],\n",
       "[                                                          0,                                           0, 0, 0],\n",
       "[                                                          0,                                           0, 0, 0]]),                                                                                                                                                             Matrix([\n",
       "[                            0, 0, r**2*R(t)*Derivative(R(t), (t, 2)), 0],\n",
       "[                            0, 0,                                  0, 0],\n",
       "[Derivative(R(t), (t, 2))/R(t), 0,                                  0, 0],\n",
       "[                            0, 0,                                  0, 0]]),                                                                                                                                                             Matrix([\n",
       "[                            0, 0, 0, r**2*R(t)*sin(\\theta)**2*Derivative(R(t), (t, 2))],\n",
       "[                            0, 0, 0,                                                 0],\n",
       "[                            0, 0, 0,                                                 0],\n",
       "[Derivative(R(t), (t, 2))/R(t), 0, 0,                                                 0]])],\n",
       "[Matrix([\n",
       "[                                                         0, R(t)*Derivative(R(t), (t, 2))/(k*r**2 - 1), 0, 0],\n",
       "[(-k*r**2 + 1)*Derivative(R(t), (t, 2))/((k*r**2 - 1)*R(t)),                                          0, 0, 0],\n",
       "[                                                         0,                                          0, 0, 0],\n",
       "[                                                         0,                                          0, 0, 0]]),                                                                                                                                                                                                                                                                                                                                                                                                                                                                             Matrix([\n",
       "[0, 0, 0, 0],\n",
       "[0, 0, 0, 0],\n",
       "[0, 0, 0, 0],\n",
       "[0, 0, 0, 0]]), Matrix([\n",
       "[0,                                         0,                                                             0, 0],\n",
       "[0,                                         0, -r**2*(k + Derivative(R(t), t)**2)*(-k*r**2 + 1)/(k*r**2 - 1), 0],\n",
       "[0, (k + Derivative(R(t), t)**2)/(k*r**2 - 1),                                                             0, 0],\n",
       "[0,                                         0,                                                             0, 0]]), Matrix([\n",
       "[0,                                         0, 0,                                                                            0],\n",
       "[0,                                         0, 0, -r**2*(k + Derivative(R(t), t)**2)*(-k*r**2 + 1)*sin(\\theta)**2/(k*r**2 - 1)],\n",
       "[0,                                         0, 0,                                                                            0],\n",
       "[0, (k + Derivative(R(t), t)**2)/(k*r**2 - 1), 0,                                                                            0]])],\n",
       "[                                                                                                                                            Matrix([\n",
       "[                             0, 0, -r**2*R(t)*Derivative(R(t), (t, 2)), 0],\n",
       "[                             0, 0,                                   0, 0],\n",
       "[-Derivative(R(t), (t, 2))/R(t), 0,                                   0, 0],\n",
       "[                             0, 0,                                   0, 0]]),                                                             Matrix([\n",
       "[0,                                          0,                                                            0, 0],\n",
       "[0,                                          0, r**2*(k + Derivative(R(t), t)**2)*(-k*r**2 + 1)/(k*r**2 - 1), 0],\n",
       "[0, -(k + Derivative(R(t), t)**2)/(k*r**2 - 1),                                                            0, 0],\n",
       "[0,                                          0,                                                            0, 0]]),                                                                                                                                                                                                                                                                                                                                                                                                                 Matrix([\n",
       "[0, 0, 0, 0],\n",
       "[0, 0, 0, 0],\n",
       "[0, 0, 0, 0],\n",
       "[0, 0, 0, 0]]),                                                                                                                                             Matrix([\n",
       "[0, 0,                                  0,                                                0],\n",
       "[0, 0,                                  0,                                                0],\n",
       "[0, 0,                                  0, r**2*(k + Derivative(R(t), t)**2)*sin(\\theta)**2],\n",
       "[0, 0, -r**2*(k + Derivative(R(t), t)**2),                                                0]])],\n",
       "[                                                                                Matrix([\n",
       "[                             0, 0, 0, -r**2*R(t)*sin(\\theta)**2*Derivative(R(t), (t, 2))],\n",
       "[                             0, 0, 0,                                                  0],\n",
       "[                             0, 0, 0,                                                  0],\n",
       "[-Derivative(R(t), (t, 2))/R(t), 0, 0,                                                  0]]), Matrix([\n",
       "[0,                                          0, 0,                                                                           0],\n",
       "[0,                                          0, 0, r**2*(k + Derivative(R(t), t)**2)*(-k*r**2 + 1)*sin(\\theta)**2/(k*r**2 - 1)],\n",
       "[0,                                          0, 0,                                                                           0],\n",
       "[0, -(k + Derivative(R(t), t)**2)/(k*r**2 - 1), 0,                                                                           0]]),                                                                                 Matrix([\n",
       "[0, 0,                                 0,                                                 0],\n",
       "[0, 0,                                 0,                                                 0],\n",
       "[0, 0,                                 0, -r**2*(k + Derivative(R(t), t)**2)*sin(\\theta)**2],\n",
       "[0, 0, r**2*(k + Derivative(R(t), t)**2),                                                 0]]),                                                                                                                                                                                                                                                                                                                                                                                                                                                                             Matrix([\n",
       "[0, 0, 0, 0],\n",
       "[0, 0, 0, 0],\n",
       "[0, 0, 0, 0],\n",
       "[0, 0, 0, 0]])]])"
      ]
     },
     "execution_count": 8,
     "metadata": {},
     "output_type": "execute_result"
    }
   ],
   "source": [
    "Rm(All,All,-All,All)"
   ]
  },
  {
   "cell_type": "code",
   "execution_count": 9,
   "id": "f11c7c73",
   "metadata": {},
   "outputs": [
    {
     "data": {
      "text/latex": [
       "$\\displaystyle \\left[\\begin{matrix}- \\frac{3 \\frac{d^{2}}{d t^{2}} R{\\left(t \\right)}}{R{\\left(t \\right)}} & 0 & 0 & 0\\\\0 & - \\frac{2 k + R{\\left(t \\right)} \\frac{d^{2}}{d t^{2}} R{\\left(t \\right)} + 2 \\left(\\frac{d}{d t} R{\\left(t \\right)}\\right)^{2}}{k r^{2} - 1} & 0 & 0\\\\0 & 0 & r^{2} \\left(2 k + R{\\left(t \\right)} \\frac{d^{2}}{d t^{2}} R{\\left(t \\right)} + 2 \\left(\\frac{d}{d t} R{\\left(t \\right)}\\right)^{2}\\right) & 0\\\\0 & 0 & 0 & r^{2} \\left(2 k + R{\\left(t \\right)} \\frac{d^{2}}{d t^{2}} R{\\left(t \\right)} + 2 \\left(\\frac{d}{d t} R{\\left(t \\right)}\\right)^{2}\\right) \\sin^{2}{\\left(\\theta \\right)}\\end{matrix}\\right]$"
      ],
      "text/plain": [
       "Matrix([\n",
       "[-3*Derivative(R(t), (t, 2))/R(t),                                                                              0,                                                                     0,                                                                                    0],\n",
       "[                               0, -(2*k + R(t)*Derivative(R(t), (t, 2)) + 2*Derivative(R(t), t)**2)/(k*r**2 - 1),                                                                     0,                                                                                    0],\n",
       "[                               0,                                                                              0, r**2*(2*k + R(t)*Derivative(R(t), (t, 2)) + 2*Derivative(R(t), t)**2),                                                                                    0],\n",
       "[                               0,                                                                              0,                                                                     0, r**2*(2*k + R(t)*Derivative(R(t), (t, 2)) + 2*Derivative(R(t), t)**2)*sin(\\theta)**2]])"
      ]
     },
     "execution_count": 9,
     "metadata": {},
     "output_type": "execute_result"
    }
   ],
   "source": [
    "Ri = Ricci('Ri', g)   #Tensor de Ricci\n",
    "Ri(All,All)"
   ]
  },
  {
   "cell_type": "code",
   "execution_count": 10,
   "id": "b89412a0",
   "metadata": {},
   "outputs": [
    {
     "data": {
      "text/latex": [
       "$\\displaystyle \\frac{6 \\left(k + R{\\left(t \\right)} \\frac{d^{2}}{d t^{2}} R{\\left(t \\right)} + \\left(\\frac{d}{d t} R{\\left(t \\right)}\\right)^{2}\\right)}{R^{2}{\\left(t \\right)}}$"
      ],
      "text/plain": [
       "6*(k + R(t)*Derivative(R(t), (t, 2)) + Derivative(R(t), t)**2)/R(t)**2"
      ]
     },
     "execution_count": 10,
     "metadata": {},
     "output_type": "execute_result"
    }
   ],
   "source": [
    "Ri.scalar()"
   ]
  },
  {
   "cell_type": "code",
   "execution_count": 11,
   "id": "ae728736",
   "metadata": {},
   "outputs": [
    {
     "data": {
      "text/latex": [
       "$\\displaystyle \\left[\\begin{matrix}\\frac{3 \\left(k + \\left(\\frac{d}{d t} R{\\left(t \\right)}\\right)^{2}\\right)}{R^{2}{\\left(t \\right)}} & 0 & 0 & 0\\\\0 & \\frac{\\left(- k r^{2} + 1\\right)^{2} \\left(k + 2 R{\\left(t \\right)} \\frac{d^{2}}{d t^{2}} R{\\left(t \\right)} + \\left(\\frac{d}{d t} R{\\left(t \\right)}\\right)^{2}\\right)}{\\left(k r^{2} - 1\\right) R^{4}{\\left(t \\right)}} & 0 & 0\\\\0 & 0 & - \\frac{k + 2 R{\\left(t \\right)} \\frac{d^{2}}{d t^{2}} R{\\left(t \\right)} + \\left(\\frac{d}{d t} R{\\left(t \\right)}\\right)^{2}}{r^{2} R^{4}{\\left(t \\right)}} & 0\\\\0 & 0 & 0 & - \\frac{k + 2 R{\\left(t \\right)} \\frac{d^{2}}{d t^{2}} R{\\left(t \\right)} + \\left(\\frac{d}{d t} R{\\left(t \\right)}\\right)^{2}}{r^{2} R^{4}{\\left(t \\right)} \\sin^{2}{\\left(\\theta \\right)}}\\end{matrix}\\right]$"
      ],
      "text/plain": [
       "Matrix([\n",
       "[3*(k + Derivative(R(t), t)**2)/R(t)**2,                                                                                                      0,                                                                              0,                                                                                             0],\n",
       "[                                     0, (-k*r**2 + 1)**2*(k + 2*R(t)*Derivative(R(t), (t, 2)) + Derivative(R(t), t)**2)/((k*r**2 - 1)*R(t)**4),                                                                              0,                                                                                             0],\n",
       "[                                     0,                                                                                                      0, -(k + 2*R(t)*Derivative(R(t), (t, 2)) + Derivative(R(t), t)**2)/(r**2*R(t)**4),                                                                                             0],\n",
       "[                                     0,                                                                                                      0,                                                                              0, -(k + 2*R(t)*Derivative(R(t), (t, 2)) + Derivative(R(t), t)**2)/(r**2*R(t)**4*sin(\\theta)**2)]])"
      ]
     },
     "execution_count": 11,
     "metadata": {},
     "output_type": "execute_result"
    }
   ],
   "source": [
    "G = Einstein('G', Ri)   #Tensor de Einstein\n",
    "G(-All,-All)"
   ]
  },
  {
   "cell_type": "code",
   "execution_count": 12,
   "id": "42f257fb",
   "metadata": {},
   "outputs": [
    {
     "data": {
      "text/latex": [
       "$\\displaystyle \\left[\\begin{matrix}\\Lambda - \\frac{3 \\left(k + \\left(\\frac{d}{d t} R{\\left(t \\right)}\\right)^{2}\\right)}{R^{2}{\\left(t \\right)}} & 0 & 0 & 0\\\\0 & \\Lambda + \\frac{\\left(- k r^{2} + 1\\right) \\left(k + 2 R{\\left(t \\right)} \\frac{d^{2}}{d t^{2}} R{\\left(t \\right)} + \\left(\\frac{d}{d t} R{\\left(t \\right)}\\right)^{2}\\right)}{\\left(k r^{2} - 1\\right) R^{2}{\\left(t \\right)}} & 0 & 0\\\\0 & 0 & \\Lambda - \\frac{k + 2 R{\\left(t \\right)} \\frac{d^{2}}{d t^{2}} R{\\left(t \\right)} + \\left(\\frac{d}{d t} R{\\left(t \\right)}\\right)^{2}}{R^{2}{\\left(t \\right)}} & 0\\\\0 & 0 & 0 & \\Lambda - \\frac{k + 2 R{\\left(t \\right)} \\frac{d^{2}}{d t^{2}} R{\\left(t \\right)} + \\left(\\frac{d}{d t} R{\\left(t \\right)}\\right)^{2}}{R^{2}{\\left(t \\right)}}\\end{matrix}\\right]$"
      ],
      "text/plain": [
       "Matrix([\n",
       "[\\Lambda - 3*(k + Derivative(R(t), t)**2)/R(t)**2,                                                                                                             0,                                                                                0,                                                                                0],\n",
       "[                                               0, \\Lambda + (-k*r**2 + 1)*(k + 2*R(t)*Derivative(R(t), (t, 2)) + Derivative(R(t), t)**2)/((k*r**2 - 1)*R(t)**2),                                                                                0,                                                                                0],\n",
       "[                                               0,                                                                                                             0, \\Lambda - (k + 2*R(t)*Derivative(R(t), (t, 2)) + Derivative(R(t), t)**2)/R(t)**2,                                                                                0],\n",
       "[                                               0,                                                                                                             0,                                                                                0, \\Lambda - (k + 2*R(t)*Derivative(R(t), (t, 2)) + Derivative(R(t), t)**2)/R(t)**2]])"
      ]
     },
     "execution_count": 12,
     "metadata": {},
     "output_type": "execute_result"
    }
   ],
   "source": [
    "G_L = G(All, -All) + Lambda*g(All, -All)\n",
    "G_L"
   ]
  },
  {
   "cell_type": "code",
   "execution_count": 13,
   "id": "62d635a7",
   "metadata": {},
   "outputs": [],
   "source": [
    "tau = symbols('\\\\tau')\n",
    "w = Geodesic('w', g, tau)     #Ecuación de Geodésicas"
   ]
  },
  {
   "cell_type": "code",
   "execution_count": 14,
   "id": "f8a5dda8",
   "metadata": {},
   "outputs": [
    {
     "data": {
      "text/latex": [
       "$\\displaystyle \\frac{\\left(- k r^{2}{\\left(\\tau \\right)} + 1\\right) R{\\left(t{\\left(\\tau \\right)} \\right)} r^{2}{\\left(\\tau \\right)} \\sin^{2}{\\left(\\theta{\\left(\\tau \\right)} \\right)} \\frac{d}{d t{\\left(\\tau \\right)}} R{\\left(t{\\left(\\tau \\right)} \\right)} \\left(\\frac{d}{d \\tau} \\phi{\\left(\\tau \\right)}\\right)^{2} + \\left(- k r^{2}{\\left(\\tau \\right)} + 1\\right) R{\\left(t{\\left(\\tau \\right)} \\right)} r^{2}{\\left(\\tau \\right)} \\frac{d}{d t{\\left(\\tau \\right)}} R{\\left(t{\\left(\\tau \\right)} \\right)} \\left(\\frac{d}{d \\tau} \\theta{\\left(\\tau \\right)}\\right)^{2} + \\left(- k r^{2}{\\left(\\tau \\right)} + 1\\right) \\frac{d^{2}}{d \\tau^{2}} t{\\left(\\tau \\right)} + R{\\left(t{\\left(\\tau \\right)} \\right)} \\frac{d}{d t{\\left(\\tau \\right)}} R{\\left(t{\\left(\\tau \\right)} \\right)} \\left(\\frac{d}{d \\tau} r{\\left(\\tau \\right)}\\right)^{2}}{- k r^{2}{\\left(\\tau \\right)} + 1}$"
      ],
      "text/plain": [
       "((-k*r(\\tau)**2 + 1)*R(t(\\tau))*r(\\tau)**2*sin(\\theta(\\tau))**2*Derivative(R(t(\\tau)), t(\\tau))*Derivative(\\phi(\\tau), \\tau)**2 + (-k*r(\\tau)**2 + 1)*R(t(\\tau))*r(\\tau)**2*Derivative(R(t(\\tau)), t(\\tau))*Derivative(\\theta(\\tau), \\tau)**2 + (-k*r(\\tau)**2 + 1)*Derivative(t(\\tau), (\\tau, 2)) + R(t(\\tau))*Derivative(R(t(\\tau)), t(\\tau))*Derivative(r(\\tau), \\tau)**2)/(-k*r(\\tau)**2 + 1)"
      ]
     },
     "execution_count": 14,
     "metadata": {},
     "output_type": "execute_result"
    }
   ],
   "source": [
    "w(-1)"
   ]
  },
  {
   "cell_type": "code",
   "execution_count": 17,
   "id": "11ae6fb3",
   "metadata": {},
   "outputs": [
    {
     "data": {
      "text/latex": [
       "$\\displaystyle \\frac{k R{\\left(t{\\left(\\tau \\right)} \\right)} r^{4}{\\left(\\tau \\right)} \\sin^{2}{\\left(\\theta{\\left(\\tau \\right)} \\right)} \\frac{d}{d t{\\left(\\tau \\right)}} R{\\left(t{\\left(\\tau \\right)} \\right)} \\left(\\frac{d}{d \\tau} \\phi{\\left(\\tau \\right)}\\right)^{2} + k R{\\left(t{\\left(\\tau \\right)} \\right)} r^{4}{\\left(\\tau \\right)} \\frac{d}{d t{\\left(\\tau \\right)}} R{\\left(t{\\left(\\tau \\right)} \\right)} \\left(\\frac{d}{d \\tau} \\theta{\\left(\\tau \\right)}\\right)^{2} + k r^{2}{\\left(\\tau \\right)} \\frac{d^{2}}{d \\tau^{2}} t{\\left(\\tau \\right)} - R{\\left(t{\\left(\\tau \\right)} \\right)} r^{2}{\\left(\\tau \\right)} \\sin^{2}{\\left(\\theta{\\left(\\tau \\right)} \\right)} \\frac{d}{d t{\\left(\\tau \\right)}} R{\\left(t{\\left(\\tau \\right)} \\right)} \\left(\\frac{d}{d \\tau} \\phi{\\left(\\tau \\right)}\\right)^{2} - R{\\left(t{\\left(\\tau \\right)} \\right)} r^{2}{\\left(\\tau \\right)} \\frac{d}{d t{\\left(\\tau \\right)}} R{\\left(t{\\left(\\tau \\right)} \\right)} \\left(\\frac{d}{d \\tau} \\theta{\\left(\\tau \\right)}\\right)^{2} - R{\\left(t{\\left(\\tau \\right)} \\right)} \\frac{d}{d t{\\left(\\tau \\right)}} R{\\left(t{\\left(\\tau \\right)} \\right)} \\left(\\frac{d}{d \\tau} r{\\left(\\tau \\right)}\\right)^{2} - \\frac{d^{2}}{d \\tau^{2}} t{\\left(\\tau \\right)}}{k r^{2}{\\left(\\tau \\right)} - 1}$"
      ],
      "text/plain": [
       "(k*R(t(\\tau))*r(\\tau)**4*sin(\\theta(\\tau))**2*Derivative(R(t(\\tau)), t(\\tau))*Derivative(\\phi(\\tau), \\tau)**2 + k*R(t(\\tau))*r(\\tau)**4*Derivative(R(t(\\tau)), t(\\tau))*Derivative(\\theta(\\tau), \\tau)**2 + k*r(\\tau)**2*Derivative(t(\\tau), (\\tau, 2)) - R(t(\\tau))*r(\\tau)**2*sin(\\theta(\\tau))**2*Derivative(R(t(\\tau)), t(\\tau))*Derivative(\\phi(\\tau), \\tau)**2 - R(t(\\tau))*r(\\tau)**2*Derivative(R(t(\\tau)), t(\\tau))*Derivative(\\theta(\\tau), \\tau)**2 - R(t(\\tau))*Derivative(R(t(\\tau)), t(\\tau))*Derivative(r(\\tau), \\tau)**2 - Derivative(t(\\tau), (\\tau, 2)))/(k*r(\\tau)**2 - 1)"
      ]
     },
     "execution_count": 17,
     "metadata": {},
     "output_type": "execute_result"
    }
   ],
   "source": [
    "simplify(cancel(w(-1)))"
   ]
  },
  {
   "cell_type": "markdown",
   "id": "a452a3f0",
   "metadata": {},
   "source": [
    "# <font color=purple>__Tensor de energía momento__: </font>\n",
    "\n",
    "## En este caso el $T_{\\mu \\nu}$ es para un fluido perfecto.\n",
    "\n",
    "## $T_{\\mu \\nu} = (\\rho + P) u_\\mu u_\\nu + P g_{\\mu \\nu}$"
   ]
  },
  {
   "cell_type": "code",
   "execution_count": 13,
   "id": "3b07189d",
   "metadata": {},
   "outputs": [
    {
     "data": {
      "text/latex": [
       "$\\displaystyle \\left[\\begin{matrix}\\rho{\\left(t \\right)} & 0 & 0 & 0\\\\0 & - P{\\left(t \\right)} & 0 & 0\\\\0 & 0 & - P{\\left(t \\right)} & 0\\\\0 & 0 & 0 & - P{\\left(t \\right)}\\end{matrix}\\right]$"
      ],
      "text/plain": [
       "Matrix([\n",
       "[\\rho(t),     0,     0,     0],\n",
       "[      0, -P(t),     0,     0],\n",
       "[      0,     0, -P(t),     0],\n",
       "[      0,     0,     0, -P(t)]])"
      ]
     },
     "execution_count": 13,
     "metadata": {},
     "output_type": "execute_result"
    }
   ],
   "source": [
    "P = Function('P') #Define los símbolos\n",
    "\n",
    "rho = Function('\\\\rho')\n",
    "\n",
    "chi = Coordinates('\\chi', [t, r, theta, phi])  #Crea el 4-Vector  \n",
    " \n",
    "Te_m = diag(rho(t), -P(t) ,-P(t) , -P(t)) \n",
    "\n",
    "#print g(-All, -All) #g^(\\mu \\nu)\n",
    "Te_m "
   ]
  },
  {
   "cell_type": "code",
   "execution_count": 14,
   "id": "2792e9b9",
   "metadata": {},
   "outputs": [
    {
     "data": {
      "text/latex": [
       "$\\displaystyle - 8 \\pi G_{N} \\rho{\\left(t \\right)} + \\Lambda - \\frac{3 \\left(k + \\left(\\frac{d}{d t} R{\\left(t \\right)}\\right)^{2}\\right)}{R^{2}{\\left(t \\right)}}$"
      ],
      "text/plain": [
       "-8*pi*G_N*\\rho(t) + \\Lambda - 3*(k + Derivative(R(t), t)**2)/R(t)**2"
      ]
     },
     "execution_count": 14,
     "metadata": {},
     "output_type": "execute_result"
    }
   ],
   "source": [
    "F_1 = G_L[0, 0] - 8*pi*GN*Te_m[0, 0] \n",
    "F_1"
   ]
  },
  {
   "cell_type": "code",
   "execution_count": 15,
   "id": "dca4b790",
   "metadata": {},
   "outputs": [
    {
     "data": {
      "text/latex": [
       "$\\displaystyle 8 \\pi G_{N} P{\\left(t \\right)} + \\Lambda + \\frac{\\left(- k r^{2} + 1\\right) \\left(k + 2 R{\\left(t \\right)} \\frac{d^{2}}{d t^{2}} R{\\left(t \\right)} + \\left(\\frac{d}{d t} R{\\left(t \\right)}\\right)^{2}\\right)}{\\left(k r^{2} - 1\\right) R^{2}{\\left(t \\right)}}$"
      ],
      "text/plain": [
       "8*pi*G_N*P(t) + \\Lambda + (-k*r**2 + 1)*(k + 2*R(t)*Derivative(R(t), (t, 2)) + Derivative(R(t), t)**2)/((k*r**2 - 1)*R(t)**2)"
      ]
     },
     "execution_count": 15,
     "metadata": {},
     "output_type": "execute_result"
    }
   ],
   "source": [
    "F_ij = G_L[1,1] - 8*pi*GN*Te_m[1,1]  \n",
    "F_ij"
   ]
  },
  {
   "cell_type": "code",
   "execution_count": null,
   "id": "1c3424b6",
   "metadata": {},
   "outputs": [],
   "source": []
  },
  {
   "cell_type": "code",
   "execution_count": 16,
   "id": "55b53f04",
   "metadata": {},
   "outputs": [
    {
     "data": {
      "text/latex": [
       "$\\displaystyle \\operatorname{T(4, 4)}{\\left(t,r,\\theta,\\phi \\right)}$"
      ],
      "text/plain": [
       "T(4, 4)(t, r, \\theta, \\phi)"
      ]
     },
     "execution_count": 16,
     "metadata": {},
     "output_type": "execute_result"
    }
   ],
   "source": [
    "T = Tensor('T', 2, g) # rank 2\n",
    "T(4,4)"
   ]
  },
  {
   "cell_type": "code",
   "execution_count": 17,
   "id": "2c21041a",
   "metadata": {},
   "outputs": [
    {
     "data": {
      "text/latex": [
       "$\\displaystyle \\frac{\\partial^{2}}{\\partial t\\partial \\theta} \\operatorname{T(4, 4)}{\\left(t,r,\\theta,\\phi \\right)}$"
      ],
      "text/plain": [
       "Derivative(T(4, 4)(t, r, \\theta, \\phi), \\theta, t)"
      ]
     },
     "execution_count": 17,
     "metadata": {},
     "output_type": "execute_result"
    }
   ],
   "source": [
    "T.partialD(4, 4, 1, 3) # The first two indices belongs to second rank tensor T"
   ]
  },
  {
   "cell_type": "code",
   "execution_count": 18,
   "id": "10bffa2a",
   "metadata": {},
   "outputs": [
    {
     "data": {
      "text/plain": [
       "{(4, 4, 1, 3): Derivative(T(4, 4)(t, r, \\theta, \\phi), \\theta, t)}"
      ]
     },
     "execution_count": 18,
     "metadata": {},
     "output_type": "execute_result"
    }
   ],
   "source": [
    "T.partial_derivative_components"
   ]
  },
  {
   "cell_type": "code",
   "execution_count": 19,
   "id": "7ada9d61",
   "metadata": {},
   "outputs": [
    {
     "data": {
      "text/latex": [
       "$\\displaystyle \\frac{\\partial}{\\partial t} \\operatorname{T(1, 1)}{\\left(t,r,\\theta,\\phi \\right)}$"
      ],
      "text/plain": [
       "Derivative(T(1, 1)(t, r, \\theta, \\phi), t)"
      ]
     },
     "execution_count": 19,
     "metadata": {},
     "output_type": "execute_result"
    }
   ],
   "source": [
    "T.covariantD(1,1,1)"
   ]
  },
  {
   "cell_type": "code",
   "execution_count": 20,
   "id": "654c4cfc",
   "metadata": {},
   "outputs": [
    {
     "data": {
      "text/latex": [
       "$\\displaystyle (1, 1, 1): \\frac{\\partial}{\\partial t} \\operatorname{T(1, 1)}{\\left(t,r,\\theta,\\phi \\right)}$"
      ],
      "text/plain": [
       "<IPython.core.display.Math object>"
      ]
     },
     "metadata": {},
     "output_type": "display_data"
    }
   ],
   "source": [
    "for k in T.covariant_derivative_components:\n",
    "    display(Math(str(k) + ': '\n",
    "                 + latex(T.covariant_derivative_components[k])))"
   ]
  },
  {
   "cell_type": "markdown",
   "id": "70d3ada7",
   "metadata": {},
   "source": [
    "Proof that the covariant derivative of the metric tensor is zero"
   ]
  },
  {
   "cell_type": "code",
   "execution_count": 21,
   "id": "7328b0f4",
   "metadata": {},
   "outputs": [
    {
     "data": {
      "text/plain": [
       "True"
      ]
     },
     "execution_count": 21,
     "metadata": {},
     "output_type": "execute_result"
    }
   ],
   "source": [
    "not any([g.covariantD(i, j, k).simplify() for i, j, k in list(variations(range(1, 5), 3, True))])"
   ]
  },
  {
   "cell_type": "code",
   "execution_count": 22,
   "id": "e6e79116",
   "metadata": {},
   "outputs": [
    {
     "name": "stdout",
     "output_type": "stream",
     "text": [
      "Derivative(T(1, 1)(t, r, \\theta, \\phi), t)\n",
      "(R(t)*Derivative(T(1, 1)(t, r, \\theta, \\phi), r) - T(1, 2)(t, r, \\theta, \\phi)*Derivative(R(t), t) - T(2, 1)(t, r, \\theta, \\phi)*Derivative(R(t), t))/R(t)\n",
      "(R(t)*Derivative(T(1, 1)(t, r, \\theta, \\phi), \\theta) - T(1, 3)(t, r, \\theta, \\phi)*Derivative(R(t), t) - T(3, 1)(t, r, \\theta, \\phi)*Derivative(R(t), t))/R(t)\n",
      "(R(t)*Derivative(T(1, 1)(t, r, \\theta, \\phi), \\phi) - T(1, 4)(t, r, \\theta, \\phi)*Derivative(R(t), t) - T(4, 1)(t, r, \\theta, \\phi)*Derivative(R(t), t))/R(t)\n",
      "Derivative(T(1, 2)(t, r, \\theta, \\phi), t) - T(1, 2)(t, r, \\theta, \\phi)*Derivative(R(t), t)/R(t)\n",
      "(k*r*R(t)*T(1, 2)(t, r, \\theta, \\phi) + (k*r**2 - 1)*R(t)*Derivative(T(1, 2)(t, r, \\theta, \\phi), r) - (k*r**2 - 1)*T(2, 2)(t, r, \\theta, \\phi)*Derivative(R(t), t) + R(t)**2*T(1, 1)(t, r, \\theta, \\phi)*Derivative(R(t), t))/((k*r**2 - 1)*R(t))\n",
      "Derivative(T(1, 2)(t, r, \\theta, \\phi), \\theta) - T(3, 2)(t, r, \\theta, \\phi)*Derivative(R(t), t)/R(t) - T(1, 3)(t, r, \\theta, \\phi)/r\n",
      "Derivative(T(1, 2)(t, r, \\theta, \\phi), \\phi) - T(4, 2)(t, r, \\theta, \\phi)*Derivative(R(t), t)/R(t) - T(1, 4)(t, r, \\theta, \\phi)/r\n",
      "Derivative(T(1, 3)(t, r, \\theta, \\phi), t) - T(1, 3)(t, r, \\theta, \\phi)*Derivative(R(t), t)/R(t)\n",
      "Derivative(T(1, 3)(t, r, \\theta, \\phi), r) - T(2, 3)(t, r, \\theta, \\phi)*Derivative(R(t), t)/R(t) - T(1, 3)(t, r, \\theta, \\phi)/r\n",
      "-k*r**3*T(1, 2)(t, r, \\theta, \\phi) - r**2*R(t)*T(1, 1)(t, r, \\theta, \\phi)*Derivative(R(t), t) + r*T(1, 2)(t, r, \\theta, \\phi) + Derivative(T(1, 3)(t, r, \\theta, \\phi), \\theta) - T(3, 3)(t, r, \\theta, \\phi)*Derivative(R(t), t)/R(t)\n",
      "-T(1, 4)(t, r, \\theta, \\phi)/tan(\\theta) + Derivative(T(1, 3)(t, r, \\theta, \\phi), \\phi) - T(4, 3)(t, r, \\theta, \\phi)*Derivative(R(t), t)/R(t)\n",
      "Derivative(T(1, 4)(t, r, \\theta, \\phi), t) - T(1, 4)(t, r, \\theta, \\phi)*Derivative(R(t), t)/R(t)\n",
      "Derivative(T(1, 4)(t, r, \\theta, \\phi), r) - T(2, 4)(t, r, \\theta, \\phi)*Derivative(R(t), t)/R(t) - T(1, 4)(t, r, \\theta, \\phi)/r\n",
      "-T(1, 4)(t, r, \\theta, \\phi)/tan(\\theta) + Derivative(T(1, 4)(t, r, \\theta, \\phi), \\theta) - T(3, 4)(t, r, \\theta, \\phi)*Derivative(R(t), t)/R(t)\n",
      "-k*r**3*T(1, 2)(t, r, \\theta, \\phi)*sin(\\theta)**2 - r**2*R(t)*T(1, 1)(t, r, \\theta, \\phi)*sin(\\theta)**2*Derivative(R(t), t) + r*T(1, 2)(t, r, \\theta, \\phi)*sin(\\theta)**2 + T(1, 3)(t, r, \\theta, \\phi)*sin(2*\\theta)/2 + Derivative(T(1, 4)(t, r, \\theta, \\phi), \\phi) - T(4, 4)(t, r, \\theta, \\phi)*Derivative(R(t), t)/R(t)\n",
      "Derivative(T(2, 1)(t, r, \\theta, \\phi), t) - T(2, 1)(t, r, \\theta, \\phi)*Derivative(R(t), t)/R(t)\n",
      "(k*r*R(t)*T(2, 1)(t, r, \\theta, \\phi) + (k*r**2 - 1)*R(t)*Derivative(T(2, 1)(t, r, \\theta, \\phi), r) - (k*r**2 - 1)*T(2, 2)(t, r, \\theta, \\phi)*Derivative(R(t), t) + R(t)**2*T(1, 1)(t, r, \\theta, \\phi)*Derivative(R(t), t))/((k*r**2 - 1)*R(t))\n",
      "Derivative(T(2, 1)(t, r, \\theta, \\phi), \\theta) - T(2, 3)(t, r, \\theta, \\phi)*Derivative(R(t), t)/R(t) - T(3, 1)(t, r, \\theta, \\phi)/r\n",
      "Derivative(T(2, 1)(t, r, \\theta, \\phi), \\phi) - T(2, 4)(t, r, \\theta, \\phi)*Derivative(R(t), t)/R(t) - T(4, 1)(t, r, \\theta, \\phi)/r\n",
      "Derivative(T(2, 2)(t, r, \\theta, \\phi), t) - 2*T(2, 2)(t, r, \\theta, \\phi)*Derivative(R(t), t)/R(t)\n",
      "(2*k*r*T(2, 2)(t, r, \\theta, \\phi) + (k*r**2 - 1)*Derivative(T(2, 2)(t, r, \\theta, \\phi), r) + R(t)*T(1, 2)(t, r, \\theta, \\phi)*Derivative(R(t), t) + R(t)*T(2, 1)(t, r, \\theta, \\phi)*Derivative(R(t), t))/(k*r**2 - 1)\n",
      "(r*Derivative(T(2, 2)(t, r, \\theta, \\phi), \\theta) - T(2, 3)(t, r, \\theta, \\phi) - T(3, 2)(t, r, \\theta, \\phi))/r\n",
      "(r*Derivative(T(2, 2)(t, r, \\theta, \\phi), \\phi) - T(2, 4)(t, r, \\theta, \\phi) - T(4, 2)(t, r, \\theta, \\phi))/r\n",
      "Derivative(T(2, 3)(t, r, \\theta, \\phi), t) - 2*T(2, 3)(t, r, \\theta, \\phi)*Derivative(R(t), t)/R(t)\n",
      "(k*r**3*Derivative(T(2, 3)(t, r, \\theta, \\phi), r) + r*R(t)*T(1, 3)(t, r, \\theta, \\phi)*Derivative(R(t), t) - r*Derivative(T(2, 3)(t, r, \\theta, \\phi), r) + T(2, 3)(t, r, \\theta, \\phi))/(k*r**3 - r)\n",
      "-k*r**3*T(2, 2)(t, r, \\theta, \\phi) - r**2*R(t)*T(2, 1)(t, r, \\theta, \\phi)*Derivative(R(t), t) + r*T(2, 2)(t, r, \\theta, \\phi) + Derivative(T(2, 3)(t, r, \\theta, \\phi), \\theta) - T(3, 3)(t, r, \\theta, \\phi)/r\n",
      "-T(2, 4)(t, r, \\theta, \\phi)/tan(\\theta) + Derivative(T(2, 3)(t, r, \\theta, \\phi), \\phi) - T(4, 3)(t, r, \\theta, \\phi)/r\n",
      "Derivative(T(2, 4)(t, r, \\theta, \\phi), t) - 2*T(2, 4)(t, r, \\theta, \\phi)*Derivative(R(t), t)/R(t)\n",
      "(k*r**3*Derivative(T(2, 4)(t, r, \\theta, \\phi), r) + r*R(t)*T(1, 4)(t, r, \\theta, \\phi)*Derivative(R(t), t) - r*Derivative(T(2, 4)(t, r, \\theta, \\phi), r) + T(2, 4)(t, r, \\theta, \\phi))/(k*r**3 - r)\n",
      "-T(2, 4)(t, r, \\theta, \\phi)/tan(\\theta) + Derivative(T(2, 4)(t, r, \\theta, \\phi), \\theta) - T(3, 4)(t, r, \\theta, \\phi)/r\n",
      "(-r**3*R(t)*T(2, 1)(t, r, \\theta, \\phi)*sin(\\theta)**2*Derivative(R(t), t) - r**2*(k*r**2 - 1)*T(2, 2)(t, r, \\theta, \\phi)*sin(\\theta)**2 + r*T(2, 3)(t, r, \\theta, \\phi)*sin(2*\\theta)/2 + r*Derivative(T(2, 4)(t, r, \\theta, \\phi), \\phi) - T(4, 4)(t, r, \\theta, \\phi))/r\n",
      "Derivative(T(3, 1)(t, r, \\theta, \\phi), t) - T(3, 1)(t, r, \\theta, \\phi)*Derivative(R(t), t)/R(t)\n",
      "Derivative(T(3, 1)(t, r, \\theta, \\phi), r) - T(3, 2)(t, r, \\theta, \\phi)*Derivative(R(t), t)/R(t) - T(3, 1)(t, r, \\theta, \\phi)/r\n",
      "-k*r**3*T(2, 1)(t, r, \\theta, \\phi) - r**2*R(t)*T(1, 1)(t, r, \\theta, \\phi)*Derivative(R(t), t) + r*T(2, 1)(t, r, \\theta, \\phi) + Derivative(T(3, 1)(t, r, \\theta, \\phi), \\theta) - T(3, 3)(t, r, \\theta, \\phi)*Derivative(R(t), t)/R(t)\n",
      "-T(4, 1)(t, r, \\theta, \\phi)/tan(\\theta) + Derivative(T(3, 1)(t, r, \\theta, \\phi), \\phi) - T(3, 4)(t, r, \\theta, \\phi)*Derivative(R(t), t)/R(t)\n",
      "Derivative(T(3, 2)(t, r, \\theta, \\phi), t) - 2*T(3, 2)(t, r, \\theta, \\phi)*Derivative(R(t), t)/R(t)\n",
      "(k*r**3*Derivative(T(3, 2)(t, r, \\theta, \\phi), r) + r*R(t)*T(3, 1)(t, r, \\theta, \\phi)*Derivative(R(t), t) - r*Derivative(T(3, 2)(t, r, \\theta, \\phi), r) + T(3, 2)(t, r, \\theta, \\phi))/(k*r**3 - r)\n",
      "-k*r**3*T(2, 2)(t, r, \\theta, \\phi) - r**2*R(t)*T(1, 2)(t, r, \\theta, \\phi)*Derivative(R(t), t) + r*T(2, 2)(t, r, \\theta, \\phi) + Derivative(T(3, 2)(t, r, \\theta, \\phi), \\theta) - T(3, 3)(t, r, \\theta, \\phi)/r\n",
      "-T(4, 2)(t, r, \\theta, \\phi)/tan(\\theta) + Derivative(T(3, 2)(t, r, \\theta, \\phi), \\phi) - T(3, 4)(t, r, \\theta, \\phi)/r\n",
      "Derivative(T(3, 3)(t, r, \\theta, \\phi), t) - 2*T(3, 3)(t, r, \\theta, \\phi)*Derivative(R(t), t)/R(t)\n",
      "Derivative(T(3, 3)(t, r, \\theta, \\phi), r) - 2*T(3, 3)(t, r, \\theta, \\phi)/r\n",
      "-r**2*R(t)*T(1, 3)(t, r, \\theta, \\phi)*Derivative(R(t), t) - r**2*R(t)*T(3, 1)(t, r, \\theta, \\phi)*Derivative(R(t), t) - r*(k*r**2 - 1)*T(2, 3)(t, r, \\theta, \\phi) - r*(k*r**2 - 1)*T(3, 2)(t, r, \\theta, \\phi) + Derivative(T(3, 3)(t, r, \\theta, \\phi), \\theta)\n",
      "-T(3, 4)(t, r, \\theta, \\phi)/tan(\\theta) - T(4, 3)(t, r, \\theta, \\phi)/tan(\\theta) + Derivative(T(3, 3)(t, r, \\theta, \\phi), \\phi)\n",
      "Derivative(T(3, 4)(t, r, \\theta, \\phi), t) - 2*T(3, 4)(t, r, \\theta, \\phi)*Derivative(R(t), t)/R(t)\n",
      "Derivative(T(3, 4)(t, r, \\theta, \\phi), r) - 2*T(3, 4)(t, r, \\theta, \\phi)/r\n",
      "-k*r**3*T(2, 4)(t, r, \\theta, \\phi) - r**2*R(t)*T(1, 4)(t, r, \\theta, \\phi)*Derivative(R(t), t) + r*T(2, 4)(t, r, \\theta, \\phi) - T(3, 4)(t, r, \\theta, \\phi)/tan(\\theta) + Derivative(T(3, 4)(t, r, \\theta, \\phi), \\theta)\n",
      "k*r**3*T(3, 2)(t, r, \\theta, \\phi)*cos(2*\\theta)/2 - k*r**3*T(3, 2)(t, r, \\theta, \\phi)/2 + r**2*R(t)*T(3, 1)(t, r, \\theta, \\phi)*cos(2*\\theta)*Derivative(R(t), t)/2 - r**2*R(t)*T(3, 1)(t, r, \\theta, \\phi)*Derivative(R(t), t)/2 - r*T(3, 2)(t, r, \\theta, \\phi)*cos(2*\\theta)/2 + r*T(3, 2)(t, r, \\theta, \\phi)/2 + T(3, 3)(t, r, \\theta, \\phi)*sin(2*\\theta)/2 - T(4, 4)(t, r, \\theta, \\phi)/tan(\\theta) + Derivative(T(3, 4)(t, r, \\theta, \\phi), \\phi)\n",
      "Derivative(T(4, 1)(t, r, \\theta, \\phi), t) - T(4, 1)(t, r, \\theta, \\phi)*Derivative(R(t), t)/R(t)\n",
      "Derivative(T(4, 1)(t, r, \\theta, \\phi), r) - T(4, 2)(t, r, \\theta, \\phi)*Derivative(R(t), t)/R(t) - T(4, 1)(t, r, \\theta, \\phi)/r\n",
      "-T(4, 1)(t, r, \\theta, \\phi)/tan(\\theta) + Derivative(T(4, 1)(t, r, \\theta, \\phi), \\theta) - T(4, 3)(t, r, \\theta, \\phi)*Derivative(R(t), t)/R(t)\n",
      "-k*r**3*T(2, 1)(t, r, \\theta, \\phi)*sin(\\theta)**2 - r**2*R(t)*T(1, 1)(t, r, \\theta, \\phi)*sin(\\theta)**2*Derivative(R(t), t) + r*T(2, 1)(t, r, \\theta, \\phi)*sin(\\theta)**2 + T(3, 1)(t, r, \\theta, \\phi)*sin(2*\\theta)/2 + Derivative(T(4, 1)(t, r, \\theta, \\phi), \\phi) - T(4, 4)(t, r, \\theta, \\phi)*Derivative(R(t), t)/R(t)\n",
      "Derivative(T(4, 2)(t, r, \\theta, \\phi), t) - 2*T(4, 2)(t, r, \\theta, \\phi)*Derivative(R(t), t)/R(t)\n",
      "(k*r**3*Derivative(T(4, 2)(t, r, \\theta, \\phi), r) + r*R(t)*T(4, 1)(t, r, \\theta, \\phi)*Derivative(R(t), t) - r*Derivative(T(4, 2)(t, r, \\theta, \\phi), r) + T(4, 2)(t, r, \\theta, \\phi))/(k*r**3 - r)\n",
      "-T(4, 2)(t, r, \\theta, \\phi)/tan(\\theta) + Derivative(T(4, 2)(t, r, \\theta, \\phi), \\theta) - T(4, 3)(t, r, \\theta, \\phi)/r\n"
     ]
    },
    {
     "name": "stdout",
     "output_type": "stream",
     "text": [
      "(-r**3*R(t)*T(1, 2)(t, r, \\theta, \\phi)*sin(\\theta)**2*Derivative(R(t), t) - r**2*(k*r**2 - 1)*T(2, 2)(t, r, \\theta, \\phi)*sin(\\theta)**2 + r*T(3, 2)(t, r, \\theta, \\phi)*sin(2*\\theta)/2 + r*Derivative(T(4, 2)(t, r, \\theta, \\phi), \\phi) - T(4, 4)(t, r, \\theta, \\phi))/r\n",
      "Derivative(T(4, 3)(t, r, \\theta, \\phi), t) - 2*T(4, 3)(t, r, \\theta, \\phi)*Derivative(R(t), t)/R(t)\n",
      "Derivative(T(4, 3)(t, r, \\theta, \\phi), r) - 2*T(4, 3)(t, r, \\theta, \\phi)/r\n",
      "-k*r**3*T(4, 2)(t, r, \\theta, \\phi) - r**2*R(t)*T(4, 1)(t, r, \\theta, \\phi)*Derivative(R(t), t) + r*T(4, 2)(t, r, \\theta, \\phi) - T(4, 3)(t, r, \\theta, \\phi)/tan(\\theta) + Derivative(T(4, 3)(t, r, \\theta, \\phi), \\theta)\n",
      "k*r**3*T(2, 3)(t, r, \\theta, \\phi)*cos(2*\\theta)/2 - k*r**3*T(2, 3)(t, r, \\theta, \\phi)/2 + r**2*R(t)*T(1, 3)(t, r, \\theta, \\phi)*cos(2*\\theta)*Derivative(R(t), t)/2 - r**2*R(t)*T(1, 3)(t, r, \\theta, \\phi)*Derivative(R(t), t)/2 - r*T(2, 3)(t, r, \\theta, \\phi)*cos(2*\\theta)/2 + r*T(2, 3)(t, r, \\theta, \\phi)/2 + T(3, 3)(t, r, \\theta, \\phi)*sin(2*\\theta)/2 - T(4, 4)(t, r, \\theta, \\phi)/tan(\\theta) + Derivative(T(4, 3)(t, r, \\theta, \\phi), \\phi)\n",
      "Derivative(T(4, 4)(t, r, \\theta, \\phi), t) - 2*T(4, 4)(t, r, \\theta, \\phi)*Derivative(R(t), t)/R(t)\n",
      "Derivative(T(4, 4)(t, r, \\theta, \\phi), r) - 2*T(4, 4)(t, r, \\theta, \\phi)/r\n",
      "-2*T(4, 4)(t, r, \\theta, \\phi)/tan(\\theta) + Derivative(T(4, 4)(t, r, \\theta, \\phi), \\theta)\n",
      "-r**2*R(t)*T(1, 4)(t, r, \\theta, \\phi)*sin(\\theta)**2*Derivative(R(t), t) - r**2*R(t)*T(4, 1)(t, r, \\theta, \\phi)*sin(\\theta)**2*Derivative(R(t), t) - r*(k*r**2 - 1)*T(2, 4)(t, r, \\theta, \\phi)*sin(\\theta)**2 - r*(k*r**2 - 1)*T(4, 2)(t, r, \\theta, \\phi)*sin(\\theta)**2 + T(3, 4)(t, r, \\theta, \\phi)*sin(2*\\theta)/2 + T(4, 3)(t, r, \\theta, \\phi)*sin(2*\\theta)/2 + Derivative(T(4, 4)(t, r, \\theta, \\phi), \\phi)\n"
     ]
    }
   ],
   "source": [
    "for i, j, k in list(variations(range(1, 5), 3, True)):\n",
    "    print(T.covariantD(i, j, k).simplify())"
   ]
  },
  {
   "cell_type": "code",
   "execution_count": null,
   "id": "6da71c60",
   "metadata": {},
   "outputs": [],
   "source": []
  }
 ],
 "metadata": {
  "kernelspec": {
   "display_name": "Python 3 (ipykernel)",
   "language": "python",
   "name": "python3"
  },
  "language_info": {
   "codemirror_mode": {
    "name": "ipython",
    "version": 3
   },
   "file_extension": ".py",
   "mimetype": "text/x-python",
   "name": "python",
   "nbconvert_exporter": "python",
   "pygments_lexer": "ipython3",
   "version": "3.11.7"
  }
 },
 "nbformat": 4,
 "nbformat_minor": 5
}
